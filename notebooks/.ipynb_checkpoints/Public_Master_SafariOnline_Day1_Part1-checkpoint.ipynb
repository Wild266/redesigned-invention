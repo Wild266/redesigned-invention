{
 "cells": [
  {
   "cell_type": "markdown",
   "metadata": {
    "colab_type": "text",
    "id": "4J2lIggJLUMS"
   },
   "source": [
    "# **Essential Machine Learning and Exploratory Data Analysis with Python and Jupyter Notebook**\n",
    "\n"
   ]
  },
  {
   "cell_type": "markdown",
   "metadata": {
    "colab_type": "text",
    "id": "c_Id55m6Jsbu"
   },
   "source": [
    "## Pragmatic AI Labs\n",
    "![alt text](https://paiml.com/images/logo_with_slogan_white_background.png)\n",
    "\n",
    "This notebook was produced by [Pragmatic AI Labs](https://paiml.com/).  You can continue learning about these topics by:\n",
    "\n",
    "*   Buying a copy of [Pragmatic AI: An Introduction to Cloud-Based Machine Learning](http://www.informit.com/store/pragmatic-ai-an-introduction-to-cloud-based-machine-9780134863917)\n",
    "*   Reading an online copy of [Pragmatic AI:Pragmatic AI: An Introduction to Cloud-Based Machine Learning](https://www.safaribooksonline.com/library/view/pragmatic-ai-an/9780134863924/)\n",
    "*   Viewing more content at [noahgift.com](https://noahgift.com/)\n",
    "\n"
   ]
  },
  {
   "cell_type": "code",
   "execution_count": null,
   "metadata": {
    "colab": {
     "autoexec": {
      "startup": false,
      "wait_interval": 0
     }
    },
    "colab_type": "code",
    "id": "pBTeTbnRKG_k"
   },
   "outputs": [],
   "source": []
  },
  {
   "cell_type": "markdown",
   "metadata": {
    "colab_type": "text",
    "id": "HWKUOfEBUMLS"
   },
   "source": [
    "## Part 1.1: Introductory Concepts in Python, IPython and Jupyter\n",
    "\n",
    "*[Read related material covered in Chapter 1 of Pragmatic AI](https://www.safaribooksonline.com/library/view/pragmatic-ai-an/9780134863924/ch01.xhtml#ch01)*"
   ]
  },
  {
   "cell_type": "markdown",
   "metadata": {
    "colab_type": "text",
    "id": "nP_6tcHM7yFm"
   },
   "source": [
    "### Using IPython, Jupyter, and Python executable\n",
    "\n",
    "\n"
   ]
  },
  {
   "cell_type": "markdown",
   "metadata": {
    "colab_type": "text",
    "id": "n7JKyOrPkITH"
   },
   "source": [
    "#### Using IPython\n",
    "\n",
    "Very similar to Jupyter, but run from terminal:\n",
    "\n",
    "*   IPython predates Jupyter\n",
    "*   Both Jupyter and IPython accept *!ls -l* format to execute shell commands\n",
    "\n"
   ]
  },
  {
   "cell_type": "markdown",
   "metadata": {
    "colab_type": "text",
    "id": "Pci2aotqPIME"
   },
   "source": [
    "#### Jupyter Notebook\n",
    "\n",
    "\n",
    "Many flavors of Jupyter Notebook.  A few popular ones:\n",
    "\n",
    "![Jupyter](https://user-images.githubusercontent.com/58792/40282633-395be25c-5c27-11e8-9e40-357ea4216562.png =100x100)\n",
    "![JupyterHug](https://user-images.githubusercontent.com/58792/40282632-387efe32-5c27-11e8-9f02-6f95f2fee223.png =150x150)\n",
    "![Colab](https://user-images.githubusercontent.com/58792/40282631-384f8cf6-5c27-11e8-9209-3f0d22de0d81.png =100x100)\n",
    "![Kaggle](https://user-images.githubusercontent.com/58792/40282634-3985c3a6-5c27-11e8-8c53-06fbdedce847.png =200x100)\n",
    "![Sagemaker](https://user-images.githubusercontent.com/58792/40282635-39a3bdd4-5c27-11e8-81d5-6533a3b84771.png =200x100)\n",
    "\n",
    "#### Hosted Commercial Flavors\n",
    "\n",
    "* [Google Colaboratory](https://colab.research.google.com/notebook)\n",
    "* [Kaggle](https://www.kaggle.com/)\n",
    "\n",
    "#### Pure Open Source\n",
    "\n",
    "* [Jupyter](http://jupyter.org/) standalone, original\n",
    "* [JupyterHub](https://github.com/jupyterhub/jupyterhub) multi-user, docker friendly\n",
    "\n",
    "#### Hybrid Solutions\n",
    "\n",
    "* Running Jupyter on [AWS Spot Instances](https://aws.amazon.com/ec2/spot/)\n",
    "* [Google Data Lab](https://cloud.google.com/datalab/)\n",
    "* [Azure Data Science Virtual Machines](https://azure.microsoft.com/en-us/services/virtual-machines/data-science-virtual-machines/)\n",
    "* [AWS Sagemaker](https://aws.amazon.com/sagemaker/)\n"
   ]
  },
  {
   "cell_type": "markdown",
   "metadata": {
    "colab_type": "text",
    "id": "kn-P-e_hjvK5"
   },
   "source": [
    "#### Python executable\n",
    "\n",
    "Can run scripts, REPL and even run python statements with -c flag and semicolon to string together multiple statements"
   ]
  },
  {
   "cell_type": "code",
   "execution_count": 1,
   "metadata": {
    "colab": {
     "autoexec": {
      "startup": false,
      "wait_interval": 0
     },
     "base_uri": "https://localhost:8080/",
     "height": 34
    },
    "colab_type": "code",
    "executionInfo": {
     "elapsed": 1614,
     "status": "ok",
     "timestamp": 1532808856766,
     "user": {
      "displayName": "Noah Gift",
      "photoUrl": "//lh4.googleusercontent.com/-dTIpOULZLNo/AAAAAAAAAAI/AAAAAAAAD-E/-bTXf7FrPe0/s50-c-k-no/photo.jpg",
      "userId": "114367115509726512575"
     },
     "user_tz": 420
    },
    "id": "p2aDegQxjegv",
    "outputId": "1c8aec35-d1f8-46a7-bede-6ddbd916904f"
   },
   "outputs": [
    {
     "name": "stdout",
     "output_type": "stream",
     "text": [
      "['Public_SafariOnline_Day2_Part1.ipynb', 'Public_SafariOnline_Day1_Part2.ipynb', '.ipynb_checkpoints', 'Public_SafariOnline_Day2_Part2.ipynb', 'Public_Master_SafariOnline_Day1_Part1.ipynb']\r\n"
     ]
    }
   ],
   "source": [
    "!python -c \"import os;print(os.listdir())\""
   ]
  },
  {
   "cell_type": "code",
   "execution_count": 2,
   "metadata": {
    "colab": {
     "autoexec": {
      "startup": false,
      "wait_interval": 0
     },
     "base_uri": "https://localhost:8080/",
     "height": 89
    },
    "colab_type": "code",
    "executionInfo": {
     "elapsed": 457,
     "status": "ok",
     "timestamp": 1532367345176,
     "user": {
      "displayName": "Noah Gift",
      "photoUrl": "//lh4.googleusercontent.com/-dTIpOULZLNo/AAAAAAAAAAI/AAAAAAAAD-E/-bTXf7FrPe0/s50-c-k-no/photo.jpg",
      "userId": "114367115509726512575"
     },
     "user_tz": 600
    },
    "id": "egHxTJUGNYCA",
    "outputId": "25fde0b5-e64c-4a67-8992-63b87b6f9c8b"
   },
   "outputs": [
    {
     "data": {
      "text/plain": [
       "['/Users/noahgift/.pragmatic-ai-venv/lib/python3.6/site-packages/ipykernel_launcher.py',\n",
       " '-f',\n",
       " '/Users/noahgift/Library/Jupyter/runtime/kernel-771b118c-4f42-4d57-95e8-61eaada131d0.json']"
      ]
     },
     "execution_count": 2,
     "metadata": {},
     "output_type": "execute_result"
    }
   ],
   "source": [
    "#this is how you capture input to a program\n",
    "import sys;sys.argv"
   ]
  },
  {
   "cell_type": "markdown",
   "metadata": {
    "colab_type": "text",
    "id": "6HJtGuiKUYFU"
   },
   "source": [
    "### Introductory Concepts\n",
    "*  **Procedural Statements**\n",
    "*  Strings and String Formatting\n",
    "*  Numbers and Arithmetic Operations\n",
    "*  Data Structures\n",
    "\n"
   ]
  },
  {
   "cell_type": "markdown",
   "metadata": {
    "colab_type": "text",
    "id": "BwmnQEziVQ9k"
   },
   "source": [
    " #### Procedural Statements\n",
    " Procedural statements are literally statements that  can be issued one line at a time.  Below are types of procedural statements.  These statements can be run in:\n",
    " * Jupyter Notebook\n",
    " * IPython shell\n",
    " * Python interpreter\n",
    " * Python scripts"
   ]
  },
  {
   "cell_type": "markdown",
   "metadata": {
    "colab_type": "text",
    "id": "yTePE3imVqfP"
   },
   "source": [
    "**Printing**"
   ]
  },
  {
   "cell_type": "code",
   "execution_count": 3,
   "metadata": {
    "colab": {
     "autoexec": {
      "startup": false,
      "wait_interval": 0
     },
     "base_uri": "https://localhost:8080/",
     "height": 35
    },
    "colab_type": "code",
    "executionInfo": {
     "elapsed": 449,
     "status": "ok",
     "timestamp": 1532362474082,
     "user": {
      "displayName": "Noah Gift",
      "photoUrl": "//lh4.googleusercontent.com/-dTIpOULZLNo/AAAAAAAAAAI/AAAAAAAAD-E/-bTXf7FrPe0/s50-c-k-no/photo.jpg",
      "userId": "114367115509726512575"
     },
     "user_tz": 600
    },
    "id": "n1r0n2V3Vs70",
    "outputId": "61e63562-4e5c-41f1-9ce8-da69fc17c8b8"
   },
   "outputs": [
    {
     "name": "stdout",
     "output_type": "stream",
     "text": [
      "Hello world\n"
     ]
    }
   ],
   "source": [
    "print(\"Hello world\")"
   ]
  },
  {
   "cell_type": "markdown",
   "metadata": {
    "colab_type": "text",
    "id": "8nUjNnApV6cC"
   },
   "source": [
    "**Create Variable and Use Variable**"
   ]
  },
  {
   "cell_type": "code",
   "execution_count": 4,
   "metadata": {
    "colab": {
     "autoexec": {
      "startup": false,
      "wait_interval": 0
     },
     "base_uri": "https://localhost:8080/",
     "height": 35
    },
    "colab_type": "code",
    "executionInfo": {
     "elapsed": 427,
     "status": "ok",
     "timestamp": 1532362504688,
     "user": {
      "displayName": "Noah Gift",
      "photoUrl": "//lh4.googleusercontent.com/-dTIpOULZLNo/AAAAAAAAAAI/AAAAAAAAD-E/-bTXf7FrPe0/s50-c-k-no/photo.jpg",
      "userId": "114367115509726512575"
     },
     "user_tz": 600
    },
    "id": "mhjO2LpSVx9V",
    "outputId": "85e136b0-1991-4a06-de6a-47d63eea626d"
   },
   "outputs": [
    {
     "name": "stdout",
     "output_type": "stream",
     "text": [
      "armbar\n"
     ]
    }
   ],
   "source": [
    "variable = \"armbar\"; print(variable)"
   ]
  },
  {
   "cell_type": "markdown",
   "metadata": {
    "colab_type": "text",
    "id": "H004n8R-WDGF"
   },
   "source": [
    "**Multiple procedural statements**"
   ]
  },
  {
   "cell_type": "code",
   "execution_count": 5,
   "metadata": {
    "colab": {
     "autoexec": {
      "startup": false,
      "wait_interval": 0
     },
     "base_uri": "https://localhost:8080/",
     "height": 52
    },
    "colab_type": "code",
    "executionInfo": {
     "elapsed": 428,
     "status": "ok",
     "timestamp": 1532362543151,
     "user": {
      "displayName": "Noah Gift",
      "photoUrl": "//lh4.googleusercontent.com/-dTIpOULZLNo/AAAAAAAAAAI/AAAAAAAAD-E/-bTXf7FrPe0/s50-c-k-no/photo.jpg",
      "userId": "114367115509726512575"
     },
     "user_tz": 600
    },
    "id": "xrZWZEFmV_bN",
    "outputId": "d7a7b263-a411-43cc-d4bc-c926890a611e"
   },
   "outputs": [
    {
     "name": "stdout",
     "output_type": "stream",
     "text": [
      "In Brazilian Jiu Jitsu a common attack is a: kimura\n",
      "Another common attack is a: arm triangle\n"
     ]
    }
   ],
   "source": [
    "attack_one = \"kimura\"\n",
    "attack_two = \"arm triangle\"\n",
    "print(\"In Brazilian Jiu Jitsu a common attack is a:\", attack_one)\n",
    "print(\"Another common attack is a:\", attack_two)\n"
   ]
  },
  {
   "cell_type": "markdown",
   "metadata": {
    "colab_type": "text",
    "id": "6IiZ6RnLWKsq"
   },
   "source": [
    "**Adding Numbers**"
   ]
  },
  {
   "cell_type": "code",
   "execution_count": 6,
   "metadata": {
    "colab": {
     "autoexec": {
      "startup": false,
      "wait_interval": 0
     },
     "base_uri": "https://localhost:8080/",
     "height": 35
    },
    "colab_type": "code",
    "executionInfo": {
     "elapsed": 397,
     "status": "ok",
     "timestamp": 1532362588323,
     "user": {
      "displayName": "Noah Gift",
      "photoUrl": "//lh4.googleusercontent.com/-dTIpOULZLNo/AAAAAAAAAAI/AAAAAAAAD-E/-bTXf7FrPe0/s50-c-k-no/photo.jpg",
      "userId": "114367115509726512575"
     },
     "user_tz": 600
    },
    "id": "h049FhlhWPRm",
    "outputId": "6060a1b7-0938-4f3f-a3ce-24a7932c1752"
   },
   "outputs": [
    {
     "data": {
      "text/plain": [
       "2"
      ]
     },
     "execution_count": 6,
     "metadata": {},
     "output_type": "execute_result"
    }
   ],
   "source": [
    "1+1"
   ]
  },
  {
   "cell_type": "markdown",
   "metadata": {
    "colab_type": "text",
    "id": "mlszsN87WmcO"
   },
   "source": [
    "**Adding Phrases**"
   ]
  },
  {
   "cell_type": "code",
   "execution_count": 7,
   "metadata": {
    "colab": {
     "autoexec": {
      "startup": false,
      "wait_interval": 0
     },
     "base_uri": "https://localhost:8080/",
     "height": 35
    },
    "colab_type": "code",
    "executionInfo": {
     "elapsed": 415,
     "status": "ok",
     "timestamp": 1532362625732,
     "user": {
      "displayName": "Noah Gift",
      "photoUrl": "//lh4.googleusercontent.com/-dTIpOULZLNo/AAAAAAAAAAI/AAAAAAAAD-E/-bTXf7FrPe0/s50-c-k-no/photo.jpg",
      "userId": "114367115509726512575"
     },
     "user_tz": 600
    },
    "id": "FaE5GnCaWgbI",
    "outputId": "ccb0cb1b-ac48-4a04-ea07-b71c40efcc6d"
   },
   "outputs": [
    {
     "data": {
      "text/plain": [
       "'armbar4morestuff'"
      ]
     },
     "execution_count": 7,
     "metadata": {},
     "output_type": "execute_result"
    }
   ],
   "source": [
    "\"arm\" + \"bar\"+\"4\"+\"morestuff\""
   ]
  },
  {
   "cell_type": "markdown",
   "metadata": {
    "colab_type": "text",
    "id": "WSrfrIO1XYts"
   },
   "source": [
    "**Complex statements**\n",
    "\n",
    "More complex statements can be created that use data structures like the belts variable, which is a list."
   ]
  },
  {
   "cell_type": "code",
   "execution_count": 8,
   "metadata": {
    "colab": {
     "autoexec": {
      "startup": false,
      "wait_interval": 0
     },
     "base_uri": "https://localhost:8080/",
     "height": 104
    },
    "colab_type": "code",
    "executionInfo": {
     "elapsed": 497,
     "status": "ok",
     "timestamp": 1532362658978,
     "user": {
      "displayName": "Noah Gift",
      "photoUrl": "//lh4.googleusercontent.com/-dTIpOULZLNo/AAAAAAAAAAI/AAAAAAAAD-E/-bTXf7FrPe0/s50-c-k-no/photo.jpg",
      "userId": "114367115509726512575"
     },
     "user_tz": 600
    },
    "id": "0nf0W0e3XSQS",
    "outputId": "cfd709ee-c790-40aa-9b2f-a146da7e729a"
   },
   "outputs": [
    {
     "name": "stdout",
     "output_type": "stream",
     "text": [
      "This is not the belt I want to end up at: white\n",
      "This is not the belt I want to end up at: blue\n",
      "This is not the belt I want to end up at: purple\n",
      "This is not the belt I want to end up at: brown\n",
      "The belt I want to be is: black\n"
     ]
    }
   ],
   "source": [
    "belts = [\"white\", \"blue\", \"purple\", \"brown\", \"black\"]\n",
    "for belt in belts:\n",
    "    if \"black\" in belt:\n",
    "        print(\"The belt I want to be is:\", belt)\n",
    "    else:\n",
    "        print(\"This is not the belt I want to end up at:\", belt)"
   ]
  },
  {
   "cell_type": "markdown",
   "metadata": {
    "colab_type": "text",
    "id": "UYzPEDtnXlbx"
   },
   "source": [
    "#### Strings and String Formatting\n",
    "\n",
    "Strings are a sequence of characters and they are often programmatically formatted.  Almost all Python programs have strings because they can be used to send messages to users who use the program.  When creating strings there are few core concepts to understand:\n",
    "\n",
    "* Strings can be create with the single, double and triple/double quotes\n",
    "* Strings are can be formatted\n",
    "* One complication of strings is they can be encoded in several formats including unicode\n",
    "* Many methods are available to operate on strings.  In an editor or IPython shell you can see these methods by tab completion: \n",
    "```\n",
    "basic_string.\n",
    "            capitalize()   format()       islower()      lower()        rpartition()   title()         \n",
    "            casefold()     format_map()   isnumeric()    lstrip()       rsplit()       translate()     \n",
    "            center()       index()        isprintable()  maketrans()    rstrip()       upper()         \n",
    "            count()        isalnum()      isspace()      partition()    split()        zfill()         \n",
    "            encode()       isalpha()      istitle()      replace()      splitlines()                  \n",
    "            endswith()     isdecimal()    isupper()      rfind()        startswith()                  \n",
    "            expandtabs()   isdigit()      join()         rindex()       strip()                       \n",
    "            find()         isidentifier() ljust()        rjust()        swapcase()        \n",
    "```"
   ]
  },
  {
   "cell_type": "code",
   "execution_count": 9,
   "metadata": {
    "colab": {
     "autoexec": {
      "startup": false,
      "wait_interval": 0
     },
     "base_uri": "https://localhost:8080/",
     "height": 35
    },
    "colab_type": "code",
    "executionInfo": {
     "elapsed": 424,
     "status": "ok",
     "timestamp": 1532362725056,
     "user": {
      "displayName": "Noah Gift",
      "photoUrl": "//lh4.googleusercontent.com/-dTIpOULZLNo/AAAAAAAAAAI/AAAAAAAAD-E/-bTXf7FrPe0/s50-c-k-no/photo.jpg",
      "userId": "114367115509726512575"
     },
     "user_tz": 600
    },
    "id": "eHJX2ZFiXbFC",
    "outputId": "ae5fb6b2-605c-4643-980c-9e23e117e19a"
   },
   "outputs": [
    {
     "ename": "SyntaxError",
     "evalue": "invalid syntax (<ipython-input-9-e2b351ad5d1b>, line 2)",
     "output_type": "error",
     "traceback": [
      "\u001b[0;36m  File \u001b[0;32m\"<ipython-input-9-e2b351ad5d1b>\"\u001b[0;36m, line \u001b[0;32m2\u001b[0m\n\u001b[0;31m    my_string.\u001b[0m\n\u001b[0m              ^\u001b[0m\n\u001b[0;31mSyntaxError\u001b[0m\u001b[0;31m:\u001b[0m invalid syntax\n"
     ]
    }
   ],
   "source": [
    "my_string = \"this is a string I am using\"\n",
    "my_string."
   ]
  },
  {
   "cell_type": "markdown",
   "metadata": {
    "colab_type": "text",
    "id": "8afQjS25YDvQ"
   },
   "source": [
    "**Basic String**"
   ]
  },
  {
   "cell_type": "code",
   "execution_count": null,
   "metadata": {
    "colab": {
     "autoexec": {
      "startup": false,
      "wait_interval": 0
     }
    },
    "colab_type": "code",
    "id": "yfhfvyIpX-pc"
   },
   "outputs": [],
   "source": [
    "basic_string = \"Brazilian Jiu Jitsu\""
   ]
  },
  {
   "cell_type": "markdown",
   "metadata": {
    "colab_type": "text",
    "id": "GMYqc-cKYJlL"
   },
   "source": [
    "**Splitting String**\n",
    "\n",
    "Turn a string in a list by splitting on spaces, or some other thing"
   ]
  },
  {
   "cell_type": "code",
   "execution_count": null,
   "metadata": {
    "colab": {
     "autoexec": {
      "startup": false,
      "wait_interval": 0
     },
     "base_uri": "https://localhost:8080/",
     "height": 35
    },
    "colab_type": "code",
    "executionInfo": {
     "elapsed": 435,
     "status": "ok",
     "timestamp": 1532362768993,
     "user": {
      "displayName": "Noah Gift",
      "photoUrl": "//lh4.googleusercontent.com/-dTIpOULZLNo/AAAAAAAAAAI/AAAAAAAAD-E/-bTXf7FrPe0/s50-c-k-no/photo.jpg",
      "userId": "114367115509726512575"
     },
     "user_tz": 600
    },
    "id": "eJaoPyTzYGSk",
    "outputId": "efb19b6f-ce5a-4d9e-f2da-d53d4ef90665"
   },
   "outputs": [],
   "source": [
    "#split on spaces (default)\n",
    "basic_string.split()"
   ]
  },
  {
   "cell_type": "code",
   "execution_count": null,
   "metadata": {
    "colab": {
     "autoexec": {
      "startup": false,
      "wait_interval": 0
     },
     "base_uri": "https://localhost:8080/",
     "height": 35
    },
    "colab_type": "code",
    "executionInfo": {
     "elapsed": 589,
     "status": "ok",
     "timestamp": 1532362830127,
     "user": {
      "displayName": "Noah Gift",
      "photoUrl": "//lh4.googleusercontent.com/-dTIpOULZLNo/AAAAAAAAAAI/AAAAAAAAD-E/-bTXf7FrPe0/s50-c-k-no/photo.jpg",
      "userId": "114367115509726512575"
     },
     "user_tz": 600
    },
    "id": "z94Ajl0NZXBP",
    "outputId": "a9343350-7be0-4952-c774-6b29d9eaf0bc"
   },
   "outputs": [],
   "source": [
    "#split on hyphen\n",
    "string_with_hyphen = \"Brazilian-Jiu-Jitsu\"\n",
    "string_with_hyphen.split(\"-\")"
   ]
  },
  {
   "cell_type": "markdown",
   "metadata": {
    "colab_type": "text",
    "id": "Ti9hySuGZbbX"
   },
   "source": [
    "**All Capital**\n",
    "\n",
    "Turn a string into all Capital Letter"
   ]
  },
  {
   "cell_type": "code",
   "execution_count": null,
   "metadata": {
    "colab": {
     "autoexec": {
      "startup": false,
      "wait_interval": 0
     },
     "base_uri": "https://localhost:8080/",
     "height": 35
    },
    "colab_type": "code",
    "executionInfo": {
     "elapsed": 407,
     "status": "ok",
     "timestamp": 1532362865161,
     "user": {
      "displayName": "Noah Gift",
      "photoUrl": "//lh4.googleusercontent.com/-dTIpOULZLNo/AAAAAAAAAAI/AAAAAAAAD-E/-bTXf7FrPe0/s50-c-k-no/photo.jpg",
      "userId": "114367115509726512575"
     },
     "user_tz": 600
    },
    "id": "y2NEPM8PZZT_",
    "outputId": "fb82ab09-3fdd-4d1b-88b4-8e0fecf97fc0"
   },
   "outputs": [],
   "source": [
    "basic_string.upper()"
   ]
  },
  {
   "cell_type": "markdown",
   "metadata": {
    "colab_type": "text",
    "id": "ZlifO6c4Zk5W"
   },
   "source": [
    "**Slicing Strings**\n",
    "\n",
    "Strings can be referenced by length and sliced"
   ]
  },
  {
   "cell_type": "code",
   "execution_count": null,
   "metadata": {
    "colab": {
     "autoexec": {
      "startup": false,
      "wait_interval": 0
     },
     "base_uri": "https://localhost:8080/",
     "height": 35
    },
    "colab_type": "code",
    "executionInfo": {
     "elapsed": 410,
     "status": "ok",
     "timestamp": 1532362914370,
     "user": {
      "displayName": "Noah Gift",
      "photoUrl": "//lh4.googleusercontent.com/-dTIpOULZLNo/AAAAAAAAAAI/AAAAAAAAD-E/-bTXf7FrPe0/s50-c-k-no/photo.jpg",
      "userId": "114367115509726512575"
     },
     "user_tz": 600
    },
    "id": "tBXlXz0TZh1Q",
    "outputId": "181ec7a4-da34-4a1f-b76a-6645b1805be7"
   },
   "outputs": [],
   "source": [
    "#Get first two characters\n",
    "basic_string[:2]"
   ]
  },
  {
   "cell_type": "code",
   "execution_count": null,
   "metadata": {
    "colab": {
     "autoexec": {
      "startup": false,
      "wait_interval": 0
     },
     "base_uri": "https://localhost:8080/",
     "height": 35
    },
    "colab_type": "code",
    "executionInfo": {
     "elapsed": 439,
     "status": "ok",
     "timestamp": 1532362928580,
     "user": {
      "displayName": "Noah Gift",
      "photoUrl": "//lh4.googleusercontent.com/-dTIpOULZLNo/AAAAAAAAAAI/AAAAAAAAD-E/-bTXf7FrPe0/s50-c-k-no/photo.jpg",
      "userId": "114367115509726512575"
     },
     "user_tz": 600
    },
    "id": "EhgFdziaZtPv",
    "outputId": "bfe858f3-d5c3-46ec-c3c0-8eca00d8d252"
   },
   "outputs": [],
   "source": [
    "#Get length of string\n",
    "len(basic_string)"
   ]
  },
  {
   "cell_type": "markdown",
   "metadata": {
    "colab_type": "text",
    "id": "lxvtolozZy1f"
   },
   "source": [
    "**Strings Can Be Added Together**"
   ]
  },
  {
   "cell_type": "code",
   "execution_count": null,
   "metadata": {
    "colab": {
     "autoexec": {
      "startup": false,
      "wait_interval": 0
     },
     "base_uri": "https://localhost:8080/",
     "height": 35
    },
    "colab_type": "code",
    "executionInfo": {
     "elapsed": 412,
     "status": "ok",
     "timestamp": 1532362977594,
     "user": {
      "displayName": "Noah Gift",
      "photoUrl": "//lh4.googleusercontent.com/-dTIpOULZLNo/AAAAAAAAAAI/AAAAAAAAD-E/-bTXf7FrPe0/s50-c-k-no/photo.jpg",
      "userId": "114367115509726512575"
     },
     "user_tz": 600
    },
    "id": "eIVgqMsRZvNQ",
    "outputId": "7b92bb04-f7d6-434b-f26c-bc229289a26f"
   },
   "outputs": [],
   "source": [
    "basic_string + \" is my favorite Martial Art\""
   ]
  },
  {
   "cell_type": "code",
   "execution_count": null,
   "metadata": {
    "colab": {
     "autoexec": {
      "startup": false,
      "wait_interval": 0
     },
     "base_uri": "https://localhost:8080/",
     "height": 35
    },
    "colab_type": "code",
    "executionInfo": {
     "elapsed": 401,
     "status": "ok",
     "timestamp": 1532367174346,
     "user": {
      "displayName": "Noah Gift",
      "photoUrl": "//lh4.googleusercontent.com/-dTIpOULZLNo/AAAAAAAAAAI/AAAAAAAAD-E/-bTXf7FrPe0/s50-c-k-no/photo.jpg",
      "userId": "114367115509726512575"
     },
     "user_tz": 600
    },
    "id": "trK8HQJ1Mx6E",
    "outputId": "d8623895-a0e1-4594-cd59-7784306f5f11"
   },
   "outputs": [],
   "source": [
    "\"this is a string format: %s\" % \"string format\""
   ]
  },
  {
   "cell_type": "markdown",
   "metadata": {
    "colab_type": "text",
    "id": "nNYxshNHZ6O8"
   },
   "source": [
    "**F-Strings Can Be Formatted in More Complex Ways**\n",
    "\n",
    "One of the best ways to format a string in modern Python 3 is to use f-strings"
   ]
  },
  {
   "cell_type": "code",
   "execution_count": null,
   "metadata": {
    "colab": {
     "autoexec": {
      "startup": false,
      "wait_interval": 0
     },
     "base_uri": "https://localhost:8080/",
     "height": 35
    },
    "colab_type": "code",
    "executionInfo": {
     "elapsed": 477,
     "status": "ok",
     "timestamp": 1532363059054,
     "user": {
      "displayName": "Noah Gift",
      "photoUrl": "//lh4.googleusercontent.com/-dTIpOULZLNo/AAAAAAAAAAI/AAAAAAAAD-E/-bTXf7FrPe0/s50-c-k-no/photo.jpg",
      "userId": "114367115509726512575"
     },
     "user_tz": 600
    },
    "id": "u_NAcD5sZ1l4",
    "outputId": "bb259d04-b74b-468e-edd4-2ac2735860db"
   },
   "outputs": [],
   "source": [
    "f'I love practicing my favorite Martial Art, {basic_string}'"
   ]
  },
  {
   "cell_type": "markdown",
   "metadata": {
    "colab_type": "text",
    "id": "wlpMuwdmbui0"
   },
   "source": [
    "**Strings Can Use Triple Quotes to Wrap**"
   ]
  },
  {
   "cell_type": "code",
   "execution_count": null,
   "metadata": {
    "colab": {
     "autoexec": {
      "startup": false,
      "wait_interval": 0
     },
     "base_uri": "https://localhost:8080/",
     "height": 54
    },
    "colab_type": "code",
    "executionInfo": {
     "elapsed": 371,
     "status": "ok",
     "timestamp": 1527620179692,
     "user": {
      "displayName": "Noah Gift",
      "photoUrl": "//lh4.googleusercontent.com/-dTIpOULZLNo/AAAAAAAAAAI/AAAAAAAAD-E/-bTXf7FrPe0/s50-c-k-no/photo.jpg",
      "userId": "114367115509726512575"
     },
     "user_tz": 420
    },
    "id": "YWmNAWzqbT4k",
    "outputId": "c18c78e8-1639-4cbc-cb61-b54c9e36c8ab"
   },
   "outputs": [],
   "source": [
    "f\"\"\"\n",
    "This phrase is multiple sentenances long.\n",
    "There phrase can be formatted like simpler sentances,\n",
    "for example, I can still talk about my favorite Martial Art {basic_string}\n",
    "\"\"\""
   ]
  },
  {
   "cell_type": "markdown",
   "metadata": {
    "colab_type": "text",
    "id": "mBuMTMQWb239"
   },
   "source": [
    "**Line Breaks Can Be Removed with Replace**\n",
    "\n",
    "The last long line contained line breaks, which are the **\\n** character, and they can be removed by using the replace method"
   ]
  },
  {
   "cell_type": "code",
   "execution_count": null,
   "metadata": {
    "colab": {
     "autoexec": {
      "startup": false,
      "wait_interval": 0
     },
     "base_uri": "https://localhost:8080/",
     "height": 55
    },
    "colab_type": "code",
    "executionInfo": {
     "elapsed": 401,
     "status": "ok",
     "timestamp": 1532363181778,
     "user": {
      "displayName": "Noah Gift",
      "photoUrl": "//lh4.googleusercontent.com/-dTIpOULZLNo/AAAAAAAAAAI/AAAAAAAAD-E/-bTXf7FrPe0/s50-c-k-no/photo.jpg",
      "userId": "114367115509726512575"
     },
     "user_tz": 600
    },
    "id": "K8AVf6Pibz3H",
    "outputId": "7523b19d-8a65-417e-b3b1-7cef75157f34"
   },
   "outputs": [],
   "source": [
    "f\"\"\"\n",
    "This phrase is multiple sentenances long.\n",
    "There phrase can be formatted like simpler sentances,\n",
    "for example, I can still talk about my favorite Martial Art {basic_string}\n",
    "\"\"\".replace(\"\\n\", \"\")"
   ]
  },
  {
   "cell_type": "markdown",
   "metadata": {
    "colab_type": "text",
    "id": "eRmipgSocZ9i"
   },
   "source": [
    "#### Numbers and Arithmetic Operations\n",
    "\n",
    "Python is also a built-in calculator. Without installing any additional libraries it can do many simple and complex arithmetic operations."
   ]
  },
  {
   "cell_type": "markdown",
   "metadata": {
    "colab_type": "text",
    "id": "xd6LxgEXcgP8"
   },
   "source": [
    "**Adding and Subtracting Numbers**"
   ]
  },
  {
   "cell_type": "code",
   "execution_count": null,
   "metadata": {
    "colab": {
     "autoexec": {
      "startup": false,
      "wait_interval": 0
     },
     "base_uri": "https://localhost:8080/",
     "height": 35
    },
    "colab_type": "code",
    "executionInfo": {
     "elapsed": 608,
     "status": "ok",
     "timestamp": 1532363254306,
     "user": {
      "displayName": "Noah Gift",
      "photoUrl": "//lh4.googleusercontent.com/-dTIpOULZLNo/AAAAAAAAAAI/AAAAAAAAD-E/-bTXf7FrPe0/s50-c-k-no/photo.jpg",
      "userId": "114367115509726512575"
     },
     "user_tz": 600
    },
    "id": "mKwZGBoMb6_A",
    "outputId": "63e5689b-30f3-4001-8ae1-1139f11c0451"
   },
   "outputs": [],
   "source": [
    "steps = (1+1)-1\n",
    "print(f\"Two Steps Forward:  One Step Back = {steps}\")"
   ]
  },
  {
   "cell_type": "markdown",
   "metadata": {
    "colab_type": "text",
    "id": "nMKS0ZYkdjvp"
   },
   "source": [
    "**Multiplication with Decimals**\n",
    "\n",
    "Can use float type to solve decimal problems"
   ]
  },
  {
   "cell_type": "code",
   "execution_count": null,
   "metadata": {
    "colab": {
     "autoexec": {
      "startup": false,
      "wait_interval": 0
     },
     "base_uri": "https://localhost:8080/",
     "height": 35
    },
    "colab_type": "code",
    "executionInfo": {
     "elapsed": 404,
     "status": "ok",
     "timestamp": 1532363311383,
     "user": {
      "displayName": "Noah Gift",
      "photoUrl": "//lh4.googleusercontent.com/-dTIpOULZLNo/AAAAAAAAAAI/AAAAAAAAD-E/-bTXf7FrPe0/s50-c-k-no/photo.jpg",
      "userId": "114367115509726512575"
     },
     "user_tz": 600
    },
    "id": "Xgrw0LDucinh",
    "outputId": "9455d661-d6e7-4b5b-ec08-66c3a3ca7329"
   },
   "outputs": [],
   "source": [
    "body_fat_percentage = 0.10\n",
    "weight = 200\n",
    "fat_total = body_fat_percentage * weight\n",
    "print(f\"I weight 200lbs, and {fat_total}lbs of that is fat\")"
   ]
  },
  {
   "cell_type": "markdown",
   "metadata": {
    "colab_type": "text",
    "id": "gjMkBnuxiCQW"
   },
   "source": [
    "Can also use Decimal Library to set precision and deal with repeating decimal\n"
   ]
  },
  {
   "cell_type": "code",
   "execution_count": null,
   "metadata": {
    "colab": {
     "autoexec": {
      "startup": false,
      "wait_interval": 0
     },
     "base_uri": "https://localhost:8080/",
     "height": 35
    },
    "colab_type": "code",
    "executionInfo": {
     "elapsed": 428,
     "status": "ok",
     "timestamp": 1532363424206,
     "user": {
      "displayName": "Noah Gift",
      "photoUrl": "//lh4.googleusercontent.com/-dTIpOULZLNo/AAAAAAAAAAI/AAAAAAAAD-E/-bTXf7FrPe0/s50-c-k-no/photo.jpg",
      "userId": "114367115509726512575"
     },
     "user_tz": 600
    },
    "id": "GN_PYDuDiBHg",
    "outputId": "9ed1b889-2101-4a2f-ebad-d0c5c0759cdd"
   },
   "outputs": [],
   "source": [
    "from decimal import (Decimal, getcontext)\n",
    "\n",
    "getcontext().prec = 10\n",
    "Decimal(1)/Decimal(3)\n",
    "\n"
   ]
  },
  {
   "cell_type": "markdown",
   "metadata": {
    "colab_type": "text",
    "id": "f1_B6OUrdxlU"
   },
   "source": [
    "**Using Exponents**\n",
    "\n",
    "Using the Python math library it is straightforward to call 2 to the 3rd power"
   ]
  },
  {
   "cell_type": "code",
   "execution_count": null,
   "metadata": {
    "colab": {
     "autoexec": {
      "startup": false,
      "wait_interval": 0
     },
     "base_uri": "https://localhost:8080/",
     "height": 35
    },
    "colab_type": "code",
    "executionInfo": {
     "elapsed": 611,
     "status": "ok",
     "timestamp": 1532363463801,
     "user": {
      "displayName": "Noah Gift",
      "photoUrl": "//lh4.googleusercontent.com/-dTIpOULZLNo/AAAAAAAAAAI/AAAAAAAAD-E/-bTXf7FrPe0/s50-c-k-no/photo.jpg",
      "userId": "114367115509726512575"
     },
     "user_tz": 600
    },
    "id": "Q2oC1HVhdmB9",
    "outputId": "1168fa79-71c3-4e05-f607-c08affd4c2bc"
   },
   "outputs": [],
   "source": [
    "import math\n",
    "math.pow(2,3)"
   ]
  },
  {
   "cell_type": "markdown",
   "metadata": {
    "colab_type": "text",
    "id": "nkPcDry7jWt-"
   },
   "source": [
    "Can also use built in exponent operator to accomplish same thing"
   ]
  },
  {
   "cell_type": "code",
   "execution_count": null,
   "metadata": {
    "colab": {
     "autoexec": {
      "startup": false,
      "wait_interval": 0
     },
     "base_uri": "https://localhost:8080/",
     "height": 35
    },
    "colab_type": "code",
    "executionInfo": {
     "elapsed": 402,
     "status": "ok",
     "timestamp": 1532363490389,
     "user": {
      "displayName": "Noah Gift",
      "photoUrl": "//lh4.googleusercontent.com/-dTIpOULZLNo/AAAAAAAAAAI/AAAAAAAAD-E/-bTXf7FrPe0/s50-c-k-no/photo.jpg",
      "userId": "114367115509726512575"
     },
     "user_tz": 600
    },
    "id": "9aV-R-DljXEj",
    "outputId": "9d4f9a2b-080b-432d-bc85-f6ee5dbda58f"
   },
   "outputs": [],
   "source": [
    "2**3"
   ]
  },
  {
   "cell_type": "markdown",
   "metadata": {
    "colab_type": "text",
    "id": "P6gOf9qtd6Nt"
   },
   "source": [
    "**Converting Between different numerical types**\n",
    "\n",
    "There are many numerical forms to be aware of in Python.\n",
    "A couple of the most common are:\n",
    "\n",
    "* Integers\n",
    "* Floats"
   ]
  },
  {
   "cell_type": "code",
   "execution_count": null,
   "metadata": {
    "colab": {
     "autoexec": {
      "startup": false,
      "wait_interval": 0
     },
     "base_uri": "https://localhost:8080/",
     "height": 35
    },
    "colab_type": "code",
    "executionInfo": {
     "elapsed": 414,
     "status": "ok",
     "timestamp": 1532363541796,
     "user": {
      "displayName": "Noah Gift",
      "photoUrl": "//lh4.googleusercontent.com/-dTIpOULZLNo/AAAAAAAAAAI/AAAAAAAAD-E/-bTXf7FrPe0/s50-c-k-no/photo.jpg",
      "userId": "114367115509726512575"
     },
     "user_tz": 600
    },
    "id": "XCWg7yX-d210",
    "outputId": "30c6e410-fe1f-464c-c81a-27b52a4a5f45"
   },
   "outputs": [],
   "source": [
    "number = 100\n",
    "num_type = type(number).__name__\n",
    "print(f\"{number} is type [{num_type}]\")"
   ]
  },
  {
   "cell_type": "code",
   "execution_count": null,
   "metadata": {
    "colab": {
     "autoexec": {
      "startup": false,
      "wait_interval": 0
     },
     "base_uri": "https://localhost:8080/",
     "height": 35
    },
    "colab_type": "code",
    "executionInfo": {
     "elapsed": 385,
     "status": "ok",
     "timestamp": 1532363558638,
     "user": {
      "displayName": "Noah Gift",
      "photoUrl": "//lh4.googleusercontent.com/-dTIpOULZLNo/AAAAAAAAAAI/AAAAAAAAD-E/-bTXf7FrPe0/s50-c-k-no/photo.jpg",
      "userId": "114367115509726512575"
     },
     "user_tz": 600
    },
    "id": "iW2f1Ik7eAzd",
    "outputId": "2353c92b-68d7-4a4d-8e09-1be569fa89f4"
   },
   "outputs": [],
   "source": [
    "number = float(100)\n",
    "num_type = type(number).__name__\n",
    "print(f\"{number} is type [{num_type}]\")"
   ]
  },
  {
   "cell_type": "markdown",
   "metadata": {
    "colab_type": "text",
    "id": "MrrFXb99gQ1Z"
   },
   "source": [
    "**Numbers can also be rounded**\n",
    "\n",
    "Python Built in round "
   ]
  },
  {
   "cell_type": "code",
   "execution_count": null,
   "metadata": {
    "colab": {
     "autoexec": {
      "startup": false,
      "wait_interval": 0
     },
     "base_uri": "https://localhost:8080/",
     "height": 35
    },
    "colab_type": "code",
    "executionInfo": {
     "elapsed": 374,
     "status": "ok",
     "timestamp": 1532363637210,
     "user": {
      "displayName": "Noah Gift",
      "photoUrl": "//lh4.googleusercontent.com/-dTIpOULZLNo/AAAAAAAAAAI/AAAAAAAAD-E/-bTXf7FrPe0/s50-c-k-no/photo.jpg",
      "userId": "114367115509726512575"
     },
     "user_tz": 600
    },
    "id": "Wjtnfol2iZDL",
    "outputId": "24c55490-329d-4900-dd68-431a511e079c"
   },
   "outputs": [],
   "source": [
    "too_many_decimals = 1.912345897\n",
    "round(too_many_decimals, 2)"
   ]
  },
  {
   "cell_type": "markdown",
   "metadata": {
    "colab_type": "text",
    "id": "SuJDUTLFWUJz"
   },
   "source": [
    "Numpy round"
   ]
  },
  {
   "cell_type": "code",
   "execution_count": null,
   "metadata": {
    "colab": {
     "autoexec": {
      "startup": false,
      "wait_interval": 0
     },
     "base_uri": "https://localhost:8080/",
     "height": 35
    },
    "colab_type": "code",
    "executionInfo": {
     "elapsed": 407,
     "status": "ok",
     "timestamp": 1532363666877,
     "user": {
      "displayName": "Noah Gift",
      "photoUrl": "//lh4.googleusercontent.com/-dTIpOULZLNo/AAAAAAAAAAI/AAAAAAAAD-E/-bTXf7FrPe0/s50-c-k-no/photo.jpg",
      "userId": "114367115509726512575"
     },
     "user_tz": 600
    },
    "id": "PEabuAGGWXIF",
    "outputId": "834b3fdb-d6fc-4bcc-909a-1bce58053c8c"
   },
   "outputs": [],
   "source": [
    "import numpy as np\n",
    "np.round(too_many_decimals, 2)"
   ]
  },
  {
   "cell_type": "markdown",
   "metadata": {
    "colab_type": "text",
    "id": "X3aHIe6qW8ab"
   },
   "source": [
    "Pandas round"
   ]
  },
  {
   "cell_type": "code",
   "execution_count": null,
   "metadata": {
    "colab": {
     "autoexec": {
      "startup": false,
      "wait_interval": 0
     },
     "base_uri": "https://localhost:8080/",
     "height": 79
    },
    "colab_type": "code",
    "executionInfo": {
     "elapsed": 371,
     "status": "ok",
     "timestamp": 1532363694430,
     "user": {
      "displayName": "Noah Gift",
      "photoUrl": "//lh4.googleusercontent.com/-dTIpOULZLNo/AAAAAAAAAAI/AAAAAAAAD-E/-bTXf7FrPe0/s50-c-k-no/photo.jpg",
      "userId": "114367115509726512575"
     },
     "user_tz": 600
    },
    "id": "J-x_sjiZW-gB",
    "outputId": "e0a45787-d5a9-473c-bd03-92c5458ab32f"
   },
   "outputs": [],
   "source": [
    "import pandas as pd\n",
    "df = pd.DataFrame([too_many_decimals], columns=[\"A\"], index=[\"first\"])\n",
    "df.round(2)\n"
   ]
  },
  {
   "cell_type": "markdown",
   "metadata": {
    "colab_type": "text",
    "id": "elnncfa0XtOt"
   },
   "source": [
    "Simple benchmark of all three (**Python**, **numpy** and **Pandas** round):   using **%timeit**\n",
    "\n",
    "*Depending on what is getting rounded (i.e. a very large DataFrame, performance may very, so knowing how to benchmark performance is important with round) *\n"
   ]
  },
  {
   "cell_type": "code",
   "execution_count": null,
   "metadata": {
    "colab": {
     "autoexec": {
      "startup": false,
      "wait_interval": 0
     },
     "base_uri": "https://localhost:8080/",
     "height": 176
    },
    "colab_type": "code",
    "executionInfo": {
     "elapsed": 9627,
     "status": "ok",
     "timestamp": 1532363753848,
     "user": {
      "displayName": "Noah Gift",
      "photoUrl": "//lh4.googleusercontent.com/-dTIpOULZLNo/AAAAAAAAAAI/AAAAAAAAD-E/-bTXf7FrPe0/s50-c-k-no/photo.jpg",
      "userId": "114367115509726512575"
     },
     "user_tz": 600
    },
    "id": "Yr1SXcF5Xw-L",
    "outputId": "a4c44d06-429a-466a-8af4-2391484d3556"
   },
   "outputs": [],
   "source": [
    "print(\"built in Python Round\")\n",
    "%timeit round(too_many_decimals, 2)\n",
    "\n",
    "print(\"numpy round\")\n",
    "%timeit np.round(too_many_decimals, 2)\n",
    "\n",
    "print(\"Pandas DataFrame round\")\n",
    "%timeit df.round(2)"
   ]
  },
  {
   "cell_type": "markdown",
   "metadata": {
    "colab_type": "text",
    "id": "CuJ2OPSZiewO"
   },
   "source": [
    "### Data Structures\n",
    "Python has a couple of core Data Structures that are used very frequently\n",
    "\n",
    "* Lists\n",
    "* Dictionaries\n",
    "\n",
    "Dictionaries and lists are the real workhorses of Python, but there are also other Data Structers like tuples, sets, Counters, etc, that are worth exploring too."
   ]
  },
  {
   "cell_type": "markdown",
   "metadata": {
    "colab_type": "text",
    "id": "rYrg60aboNTc"
   },
   "source": [
    "#### Python Dictionaries\n",
    "\n",
    "The workhorse of Python datastructures"
   ]
  },
  {
   "cell_type": "markdown",
   "metadata": {
    "colab_type": "text",
    "id": "TJgbX5wb7yHD"
   },
   "source": [
    "##### Creating Python Dictionaries\n",
    "\n",
    "Creating Python Dictionaries can be done with* brackets {}*"
   ]
  },
  {
   "cell_type": "code",
   "execution_count": null,
   "metadata": {
    "colab": {
     "autoexec": {
      "startup": false,
      "wait_interval": 0
     },
     "base_uri": "https://localhost:8080/",
     "height": 87
    },
    "colab_type": "code",
    "executionInfo": {
     "elapsed": 479,
     "status": "ok",
     "timestamp": 1532363879634,
     "user": {
      "displayName": "Noah Gift",
      "photoUrl": "//lh4.googleusercontent.com/-dTIpOULZLNo/AAAAAAAAAAI/AAAAAAAAD-E/-bTXf7FrPe0/s50-c-k-no/photo.jpg",
      "userId": "114367115509726512575"
     },
     "user_tz": 600
    },
    "id": "IEi6YTS2iZj7",
    "outputId": "5824cc65-bca5-4f0a-ca6d-bf6f2722b439"
   },
   "outputs": [],
   "source": [
    "submissions = {\"armbar\": \"upper_body\", \n",
    "               \"arm_triangle\": \"upper_body\", \n",
    "               \"heel_hook\": \"lower_body\", \n",
    "               \"knee_bar\": \"lower_body\"}\n",
    "submissions"
   ]
  },
  {
   "cell_type": "code",
   "execution_count": null,
   "metadata": {
    "colab": {
     "autoexec": {
      "startup": false,
      "wait_interval": 0
     },
     "base_uri": "https://localhost:8080/",
     "height": 35
    },
    "colab_type": "code",
    "executionInfo": {
     "elapsed": 416,
     "status": "ok",
     "timestamp": 1532363895732,
     "user": {
      "displayName": "Noah Gift",
      "photoUrl": "//lh4.googleusercontent.com/-dTIpOULZLNo/AAAAAAAAAAI/AAAAAAAAD-E/-bTXf7FrPe0/s50-c-k-no/photo.jpg",
      "userId": "114367115509726512575"
     },
     "user_tz": 600
    },
    "id": "4guKbqgfink8",
    "outputId": "cc41aafa-e4ec-4543-e6c3-5f0a16ce1922"
   },
   "outputs": [],
   "source": [
    "new_dict =dict(upper_body=\"lower_body\")\n",
    "new_dict"
   ]
  },
  {
   "cell_type": "markdown",
   "metadata": {
    "colab_type": "text",
    "id": "TjNRS-YOjYxw"
   },
   "source": [
    "##### Using Python Dictionaries\n",
    "A common dictionary usage pattern is to *iterate* on a dictionary by using the items method. In the example below the key and the value are printed:"
   ]
  },
  {
   "cell_type": "code",
   "execution_count": null,
   "metadata": {
    "colab": {
     "autoexec": {
      "startup": false,
      "wait_interval": 0
     },
     "base_uri": "https://localhost:8080/",
     "height": 87
    },
    "colab_type": "code",
    "executionInfo": {
     "elapsed": 375,
     "status": "ok",
     "timestamp": 1532363969594,
     "user": {
      "displayName": "Noah Gift",
      "photoUrl": "//lh4.googleusercontent.com/-dTIpOULZLNo/AAAAAAAAAAI/AAAAAAAAD-E/-bTXf7FrPe0/s50-c-k-no/photo.jpg",
      "userId": "114367115509726512575"
     },
     "user_tz": 600
    },
    "id": "kW1UR_yMi5bl",
    "outputId": "4c5e77f8-7412-486f-bf68-cda27c3e3d6a"
   },
   "outputs": [],
   "source": [
    "for submission, body_part in submissions.items():\n",
    "    print(f\"The {submission} is an attack on the {body_part}\")"
   ]
  },
  {
   "cell_type": "markdown",
   "metadata": {
    "colab_type": "text",
    "id": "5cue3xbzjfhF"
   },
   "source": [
    "Dictionaries can also be used to *filter*.  In the example below, only the submission attacks on the lower body are displayed:"
   ]
  },
  {
   "cell_type": "code",
   "execution_count": null,
   "metadata": {
    "colab": {
     "autoexec": {
      "startup": false,
      "wait_interval": 0
     },
     "base_uri": "https://localhost:8080/",
     "height": 69
    },
    "colab_type": "code",
    "executionInfo": {
     "elapsed": 406,
     "status": "ok",
     "timestamp": 1532364041608,
     "user": {
      "displayName": "Noah Gift",
      "photoUrl": "//lh4.googleusercontent.com/-dTIpOULZLNo/AAAAAAAAAAI/AAAAAAAAD-E/-bTXf7FrPe0/s50-c-k-no/photo.jpg",
      "userId": "114367115509726512575"
     },
     "user_tz": 600
    },
    "id": "buIoEo_Ajc1-",
    "outputId": "b419f29e-6792-4f60-81e0-93d4da737043"
   },
   "outputs": [],
   "source": [
    "print(f\"These are lower_body submission attacks in Brazilian Jiu Jitsu:\")\n",
    "for submission, body_part in submissions.items():\n",
    "    if body_part == \"lower_body\":\n",
    "        print(submission)"
   ]
  },
  {
   "cell_type": "markdown",
   "metadata": {
    "colab_type": "text",
    "id": "9jkR5VTHjsc2"
   },
   "source": [
    "Dictionary keys and values can also be selected with built in *keys() * and *values()* methods"
   ]
  },
  {
   "cell_type": "code",
   "execution_count": null,
   "metadata": {
    "colab": {
     "autoexec": {
      "startup": false,
      "wait_interval": 0
     },
     "base_uri": "https://localhost:8080/",
     "height": 72
    },
    "colab_type": "code",
    "executionInfo": {
     "elapsed": 405,
     "status": "ok",
     "timestamp": 1532364079178,
     "user": {
      "displayName": "Noah Gift",
      "photoUrl": "//lh4.googleusercontent.com/-dTIpOULZLNo/AAAAAAAAAAI/AAAAAAAAD-E/-bTXf7FrPe0/s50-c-k-no/photo.jpg",
      "userId": "114367115509726512575"
     },
     "user_tz": 600
    },
    "id": "SviUgzEfjjD-",
    "outputId": "bb8e4d17-dded-4b68-e1a1-8185dfd2cf67"
   },
   "outputs": [],
   "source": [
    "print(f\"These are keys: {submissions.keys()}\")\n",
    "print(f\"These are values: {submissions.values()}\")"
   ]
  },
  {
   "cell_type": "markdown",
   "metadata": {
    "colab_type": "text",
    "id": "sgPM6V_slmoy"
   },
   "source": [
    "Key lookup is very performant, and one of the most common ways to use a dictionary."
   ]
  },
  {
   "cell_type": "code",
   "execution_count": null,
   "metadata": {
    "colab": {
     "autoexec": {
      "startup": false,
      "wait_interval": 0
     },
     "base_uri": "https://localhost:8080/",
     "height": 35
    },
    "colab_type": "code",
    "executionInfo": {
     "elapsed": 405,
     "status": "ok",
     "timestamp": 1532364172087,
     "user": {
      "displayName": "Noah Gift",
      "photoUrl": "//lh4.googleusercontent.com/-dTIpOULZLNo/AAAAAAAAAAI/AAAAAAAAD-E/-bTXf7FrPe0/s50-c-k-no/photo.jpg",
      "userId": "114367115509726512575"
     },
     "user_tz": 600
    },
    "id": "lOn5k2kRmk4K",
    "outputId": "8928da0a-fcc5-4ce7-d792-c5c229585fa2"
   },
   "outputs": [],
   "source": [
    "if \"armbar\" in submissions:\n",
    "  print(\"found key\")\n",
    "  "
   ]
  },
  {
   "cell_type": "code",
   "execution_count": null,
   "metadata": {
    "colab": {
     "autoexec": {
      "startup": false,
      "wait_interval": 0
     },
     "base_uri": "https://localhost:8080/",
     "height": 89
    },
    "colab_type": "code",
    "executionInfo": {
     "elapsed": 1986,
     "status": "ok",
     "timestamp": 1532364176363,
     "user": {
      "displayName": "Noah Gift",
      "photoUrl": "//lh4.googleusercontent.com/-dTIpOULZLNo/AAAAAAAAAAI/AAAAAAAAD-E/-bTXf7FrPe0/s50-c-k-no/photo.jpg",
      "userId": "114367115509726512575"
     },
     "user_tz": 600
    },
    "id": "ORI3ZxbqntAG",
    "outputId": "e5bb7a9a-a5f1-45e3-d28f-80c7c072a2f3"
   },
   "outputs": [],
   "source": [
    "print(\"timing key membership\")\n",
    "%timeit if \"armbar\" in submissions: pass "
   ]
  },
  {
   "cell_type": "markdown",
   "metadata": {
    "colab_type": "text",
    "id": "IyHkox1Rj66y"
   },
   "source": [
    "#### Python Lists\n",
    "\n",
    "Lists are also very commonly used in Python. They allow for sequential collections. Lists can hold dictionaries, just as dictionaries can hold lists."
   ]
  },
  {
   "cell_type": "markdown",
   "metadata": {
    "colab_type": "text",
    "id": "Xo7IMK567yHQ"
   },
   "source": [
    "##### Creating Lists\n",
    "\n",
    "One way to create lists is with *[] syntax*"
   ]
  },
  {
   "cell_type": "code",
   "execution_count": null,
   "metadata": {
    "colab": {
     "autoexec": {
      "startup": false,
      "wait_interval": 0
     }
    },
    "colab_type": "code",
    "id": "MI-S0FStj1o4"
   },
   "outputs": [],
   "source": [
    "list_of_bjj_positions = [\"mount\", \"full-guard\", \"half-guard\", \n",
    "                         \"turtle\", \"side-control\", \"rear-mount\", \n",
    "                         \"knee-on-belly\", \"north-south\", \"open-guard\"]"
   ]
  },
  {
   "cell_type": "markdown",
   "metadata": {
    "colab_type": "text",
    "id": "WUgrRDDsoobr"
   },
   "source": [
    "Another method os creating lists is with built in *list()* method\n"
   ]
  },
  {
   "cell_type": "code",
   "execution_count": null,
   "metadata": {
    "colab": {
     "autoexec": {
      "startup": false,
      "wait_interval": 0
     },
     "base_uri": "https://localhost:8080/",
     "height": 35
    },
    "colab_type": "code",
    "executionInfo": {
     "elapsed": 881,
     "status": "ok",
     "timestamp": 1532364261501,
     "user": {
      "displayName": "Noah Gift",
      "photoUrl": "//lh4.googleusercontent.com/-dTIpOULZLNo/AAAAAAAAAAI/AAAAAAAAD-E/-bTXf7FrPe0/s50-c-k-no/photo.jpg",
      "userId": "114367115509726512575"
     },
     "user_tz": 600
    },
    "id": "o-3IP2FOw9yi",
    "outputId": "2c46f3fc-369e-4ea9-88f4-ab00128f383e"
   },
   "outputs": [],
   "source": [
    "bjj_dominant_positions = list()\n",
    "bjj_dominant_positions.append(\"side-control\")\n",
    "bjj_dominant_positions\n"
   ]
  },
  {
   "cell_type": "markdown",
   "metadata": {
    "colab_type": "text",
    "id": "i1gjso964T1T"
   },
   "source": [
    "Yet another way, very performant way to create lists is to use list comprehsion syntax"
   ]
  },
  {
   "cell_type": "code",
   "execution_count": null,
   "metadata": {
    "colab": {
     "autoexec": {
      "startup": false,
      "wait_interval": 0
     },
     "base_uri": "https://localhost:8080/",
     "height": 35
    },
    "colab_type": "code",
    "executionInfo": {
     "elapsed": 621,
     "status": "ok",
     "timestamp": 1532364326042,
     "user": {
      "displayName": "Noah Gift",
      "photoUrl": "//lh4.googleusercontent.com/-dTIpOULZLNo/AAAAAAAAAAI/AAAAAAAAD-E/-bTXf7FrPe0/s50-c-k-no/photo.jpg",
      "userId": "114367115509726512575"
     },
     "user_tz": 600
    },
    "id": "QeQt8XD_4T-D",
    "outputId": "0958185a-448d-4a1b-dbf0-76f71ec79c9e"
   },
   "outputs": [],
   "source": [
    "guards = \"full, half, open\"\n",
    "guard_list = [f\"{guard}-guard\" for guard in guards.split(\",\")]\n",
    "guard_list\n"
   ]
  },
  {
   "cell_type": "markdown",
   "metadata": {
    "colab_type": "text",
    "id": "CBDIYoFB7yHS"
   },
   "source": [
    "##### Using Lists\n",
    "\n",
    "For loops are one of the simplist ways to use a list."
   ]
  },
  {
   "cell_type": "code",
   "execution_count": null,
   "metadata": {
    "colab": {
     "autoexec": {
      "startup": false,
      "wait_interval": 0
     },
     "base_uri": "https://localhost:8080/",
     "height": 69
    },
    "colab_type": "code",
    "executionInfo": {
     "elapsed": 466,
     "status": "ok",
     "timestamp": 1532364365608,
     "user": {
      "displayName": "Noah Gift",
      "photoUrl": "//lh4.googleusercontent.com/-dTIpOULZLNo/AAAAAAAAAAI/AAAAAAAAD-E/-bTXf7FrPe0/s50-c-k-no/photo.jpg",
      "userId": "114367115509726512575"
     },
     "user_tz": 600
    },
    "id": "EoFWVpKYj94o",
    "outputId": "0736f647-050c-49a3-9cf0-e63203b63938"
   },
   "outputs": [],
   "source": [
    "for postion in list_of_bjj_positions:\n",
    "    if \"guard\" in postion:\n",
    "        print(postion)"
   ]
  },
  {
   "cell_type": "markdown",
   "metadata": {
    "colab_type": "text",
    "id": "YAMxQJobkCy8"
   },
   "source": [
    "Lists can also be used to select elements by slicing."
   ]
  },
  {
   "cell_type": "code",
   "execution_count": null,
   "metadata": {
    "colab": {
     "autoexec": {
      "startup": false,
      "wait_interval": 0
     },
     "base_uri": "https://localhost:8080/",
     "height": 69
    },
    "colab_type": "code",
    "executionInfo": {
     "elapsed": 432,
     "status": "ok",
     "timestamp": 1532364430950,
     "user": {
      "displayName": "Noah Gift",
      "photoUrl": "//lh4.googleusercontent.com/-dTIpOULZLNo/AAAAAAAAAAI/AAAAAAAAD-E/-bTXf7FrPe0/s50-c-k-no/photo.jpg",
      "userId": "114367115509726512575"
     },
     "user_tz": 600
    },
    "id": "Zi6PKsRIkAl_",
    "outputId": "c8bec804-3cfc-4320-d2a0-de9e0d8c028d"
   },
   "outputs": [],
   "source": [
    "print(f'First position: {list_of_bjj_positions[:1]}')\n",
    "print(f'Last position: {list_of_bjj_positions[-1:]}')\n",
    "print(f'First three positions: {list_of_bjj_positions[0:3]}')"
   ]
  },
  {
   "cell_type": "markdown",
   "metadata": {
    "colab_type": "text",
    "id": "XgxwgI1I7Ex3"
   },
   "source": [
    "Lists can also be used to unpack powerful, succinct statements when used with built-in functions like zip.\n"
   ]
  },
  {
   "cell_type": "code",
   "execution_count": null,
   "metadata": {
    "colab": {
     "autoexec": {
      "startup": false,
      "wait_interval": 0
     },
     "base_uri": "https://localhost:8080/",
     "height": 87
    },
    "colab_type": "code",
    "executionInfo": {
     "elapsed": 433,
     "status": "ok",
     "timestamp": 1532364471441,
     "user": {
      "displayName": "Noah Gift",
      "photoUrl": "//lh4.googleusercontent.com/-dTIpOULZLNo/AAAAAAAAAAI/AAAAAAAAD-E/-bTXf7FrPe0/s50-c-k-no/photo.jpg",
      "userId": "114367115509726512575"
     },
     "user_tz": 600
    },
    "id": "nkaMbTx77ddw",
    "outputId": "1ae763f6-2fcb-45af-ed9f-0d3468d0db24"
   },
   "outputs": [],
   "source": [
    "bjj_position_matrix = [\n",
    "    [\"dominant\", \"top-mount\", \"back-mount\", \"side-control\"],\n",
    "    [\"neutral\", \"open-guard\", \"full-guard\", \"standing\"],\n",
    "    [\"weak\", \"turtle\", \"bottom-back-mount\", \"bottom-mount\"]\n",
    "]\n",
    "list(zip(*bjj_position_matrix))"
   ]
  },
  {
   "cell_type": "markdown",
   "metadata": {
    "colab_type": "text",
    "id": "YXalviiD7yHZ"
   },
   "source": [
    "#### Python Sets\n",
    "\n",
    "Sets are unordered unique collections"
   ]
  },
  {
   "cell_type": "markdown",
   "metadata": {
    "colab_type": "text",
    "id": "1y5ahhJ699Gp"
   },
   "source": [
    "##### Creating Python Sets\n",
    "\n",
    "Sets can be created by using built-in *sets()* method\n"
   ]
  },
  {
   "cell_type": "code",
   "execution_count": null,
   "metadata": {
    "colab": {
     "autoexec": {
      "startup": false,
      "wait_interval": 0
     },
     "base_uri": "https://localhost:8080/",
     "height": 52
    },
    "colab_type": "code",
    "executionInfo": {
     "elapsed": 433,
     "status": "ok",
     "timestamp": 1532364517039,
     "user": {
      "displayName": "Noah Gift",
      "photoUrl": "//lh4.googleusercontent.com/-dTIpOULZLNo/AAAAAAAAAAI/AAAAAAAAD-E/-bTXf7FrPe0/s50-c-k-no/photo.jpg",
      "userId": "114367115509726512575"
     },
     "user_tz": 600
    },
    "id": "ZT4d5Dxw9V4X",
    "outputId": "83660005-42fe-4118-df8e-8c2037c8bae5"
   },
   "outputs": [],
   "source": [
    "unique_attacks = set((\"armbar\",\"armbar\"))\n",
    "print(type(unique_attacks))\n",
    "unique_attacks"
   ]
  },
  {
   "cell_type": "markdown",
   "metadata": {
    "colab_type": "text",
    "id": "Kj_JgH317yHZ"
   },
   "source": [
    "##### Using Sets\n",
    "\n",
    "One of the most powerful ways to use sets is to find the differences between to collections"
   ]
  },
  {
   "cell_type": "code",
   "execution_count": null,
   "metadata": {
    "colab": {
     "autoexec": {
      "startup": false,
      "wait_interval": 0
     },
     "base_uri": "https://localhost:8080/",
     "height": 35
    },
    "colab_type": "code",
    "executionInfo": {
     "elapsed": 390,
     "status": "ok",
     "timestamp": 1532364564699,
     "user": {
      "displayName": "Noah Gift",
      "photoUrl": "//lh4.googleusercontent.com/-dTIpOULZLNo/AAAAAAAAAAI/AAAAAAAAD-E/-bTXf7FrPe0/s50-c-k-no/photo.jpg",
      "userId": "114367115509726512575"
     },
     "user_tz": 600
    },
    "id": "zbAUyYgk_c0s",
    "outputId": "81f7155d-1ef0-472f-b85f-e6fed65c7e69"
   },
   "outputs": [],
   "source": [
    "attacks_set_one = set((\"armbar\", \"kimura\", \"heal-hook\"))\n",
    "attacks_set_two = set((\"toe-hold\", \"knee-bar\", \"heal-hook\"))\n",
    "unique_set_one_attacks = attacks_set_one - attacks_set_two\n",
    "print(f\"Unique Set One Attacks {unique_set_one_attacks}\")\n"
   ]
  },
  {
   "cell_type": "markdown",
   "metadata": {
    "colab_type": "text",
    "id": "1wY-GUQc3te-"
   },
   "source": [
    "## Part 1.2 Functions \n",
    "\n",
    "*[Read related material covered in Chapter 1 (Functions Section) of Pragmatic AI](https://www.safaribooksonline.com/library/view/pragmatic-ai-an/9780134863924/ch01.xhtml#ch01lev1sub17)*\n",
    "\n",
    "*  **Writing Functions**\n",
    "*  Function arguments:  positional, keyword\n",
    "*  Functional Currying:  Passing uncalled functions\n",
    "*  Functions that Yield\n",
    "*  Decorators:  Functions that wrap other functions\n",
    "*  Making Classes Behave Like Functions\n",
    "*  Applying a Function to a Pandas DataFrame\n",
    "*  Writing Lambdas"
   ]
  },
  {
   "cell_type": "markdown",
   "metadata": {
    "colab_type": "text",
    "id": "8JmjS2H33wZP"
   },
   "source": [
    "#### Writing Functions\n",
    "Learning to write a function is the most fundamental skill to learn in Python.  With a basic mastery of functions, it is possible to have an almost full command of the language."
   ]
  },
  {
   "cell_type": "markdown",
   "metadata": {
    "colab_type": "text",
    "id": "RHsiAy8N3-Cj"
   },
   "source": [
    "**Simple function**\n",
    "\n",
    "The simplest functions just return a value."
   ]
  },
  {
   "cell_type": "code",
   "execution_count": null,
   "metadata": {
    "colab": {
     "autoexec": {
      "startup": false,
      "wait_interval": 0
     }
    },
    "colab_type": "code",
    "id": "YsngH1Yh4BP3"
   },
   "outputs": [],
   "source": [
    "def favorite_martial_art():\n",
    "    return \"bjj\""
   ]
  },
  {
   "cell_type": "code",
   "execution_count": null,
   "metadata": {
    "colab": {
     "autoexec": {
      "startup": false,
      "wait_interval": 0
     }
    },
    "colab_type": "code",
    "id": "lq9VQm0V4BTE"
   },
   "outputs": [],
   "source": [
    "def myfunc():pass"
   ]
  },
  {
   "cell_type": "code",
   "execution_count": null,
   "metadata": {
    "colab": {
     "autoexec": {
      "startup": false,
      "wait_interval": 0
     },
     "base_uri": "https://localhost:8080/",
     "height": 35
    },
    "colab_type": "code",
    "executionInfo": {
     "elapsed": 453,
     "status": "ok",
     "timestamp": 1532364784595,
     "user": {
      "displayName": "Noah Gift",
      "photoUrl": "//lh4.googleusercontent.com/-dTIpOULZLNo/AAAAAAAAAAI/AAAAAAAAD-E/-bTXf7FrPe0/s50-c-k-no/photo.jpg",
      "userId": "114367115509726512575"
     },
     "user_tz": 600
    },
    "id": "n_K5mmgS4BeS",
    "outputId": "82520b47-831d-41cd-93e0-e568366d6267"
   },
   "outputs": [],
   "source": [
    "favorite_martial_art()"
   ]
  },
  {
   "cell_type": "markdown",
   "metadata": {
    "colab_type": "text",
    "id": "AMPU657F4JWF"
   },
   "source": [
    "**Documenting Functions**\n",
    "\n",
    "It is a very good idea to document functions.  \n",
    "In Jupyter Notebook and IPython docstrings can be viewed by referring to the function with a ?.  ie.\n",
    "\n",
    "```\n",
    "In [2]: favorite_martial_art_with_docstring?\n",
    "Signature: favorite_martial_art_with_docstring()\n",
    "Docstring: This function returns the name of my favorite martial art\n",
    "File:      ~/src/functional_intro_to_python/<ipython-input-1-bef983c31735>\n",
    "Type:      function\n",
    "```"
   ]
  },
  {
   "cell_type": "code",
   "execution_count": null,
   "metadata": {
    "colab": {
     "autoexec": {
      "startup": false,
      "wait_interval": 0
     }
    },
    "colab_type": "code",
    "id": "ZKOHmIxg4Ply"
   },
   "outputs": [],
   "source": [
    "def favorite_martial_art_with_docstring():\n",
    "    \"\"\"This function returns the name of my favorite martial art\"\"\"\n",
    "    return \"bjj\""
   ]
  },
  {
   "cell_type": "markdown",
   "metadata": {
    "colab_type": "text",
    "id": "8OW1SbDg4Rd1"
   },
   "source": [
    "**Docstrings of functions can be printed out by referring to *```__doc__```*** "
   ]
  },
  {
   "cell_type": "code",
   "execution_count": null,
   "metadata": {
    "colab": {
     "autoexec": {
      "startup": false,
      "wait_interval": 0
     }
    },
    "colab_type": "code",
    "id": "SuI6CO-E4ViO"
   },
   "outputs": [],
   "source": [
    "favorite_martial_art_with_docstring.__doc__\n",
    "favorite_martial_art_with_docstring?\n"
   ]
  },
  {
   "cell_type": "markdown",
   "metadata": {
    "colab_type": "text",
    "id": "ew4-TwH84YJa"
   },
   "source": [
    "#### Function arguments: positional, keyword\n",
    "\n",
    "A function is most useful when arguments are passed to the function. New values for times are processed inside the function. This function is also a 'positional' argument, vs a keyword argument. Positional arguments are processed in the order they are created in."
   ]
  },
  {
   "cell_type": "code",
   "execution_count": null,
   "metadata": {
    "colab": {
     "autoexec": {
      "startup": false,
      "wait_interval": 0
     }
    },
    "colab_type": "code",
    "id": "rxL-hyuL4aws"
   },
   "outputs": [],
   "source": [
    "def practice(times):\n",
    "    print(f\"I like to practice {times} times a day\")"
   ]
  },
  {
   "cell_type": "code",
   "execution_count": null,
   "metadata": {
    "colab": {
     "autoexec": {
      "startup": false,
      "wait_interval": 0
     },
     "base_uri": "https://localhost:8080/",
     "height": 35
    },
    "colab_type": "code",
    "executionInfo": {
     "elapsed": 404,
     "status": "ok",
     "timestamp": 1532365002650,
     "user": {
      "displayName": "Noah Gift",
      "photoUrl": "//lh4.googleusercontent.com/-dTIpOULZLNo/AAAAAAAAAAI/AAAAAAAAD-E/-bTXf7FrPe0/s50-c-k-no/photo.jpg",
      "userId": "114367115509726512575"
     },
     "user_tz": 600
    },
    "id": "WqDUN33f4cyf",
    "outputId": "97fe9942-ad4f-44a0-fdec-28264eb5df03"
   },
   "outputs": [],
   "source": [
    "practice(2)"
   ]
  },
  {
   "cell_type": "code",
   "execution_count": null,
   "metadata": {
    "colab": {
     "autoexec": {
      "startup": false,
      "wait_interval": 0
     },
     "base_uri": "https://localhost:8080/",
     "height": 35
    },
    "colab_type": "code",
    "executionInfo": {
     "elapsed": 444,
     "status": "ok",
     "timestamp": 1532365007976,
     "user": {
      "displayName": "Noah Gift",
      "photoUrl": "//lh4.googleusercontent.com/-dTIpOULZLNo/AAAAAAAAAAI/AAAAAAAAD-E/-bTXf7FrPe0/s50-c-k-no/photo.jpg",
      "userId": "114367115509726512575"
     },
     "user_tz": 600
    },
    "id": "C8h7Jo0y4ggH",
    "outputId": "88979dc5-0688-4027-9a16-2454cd82b737"
   },
   "outputs": [],
   "source": [
    "practice(3)"
   ]
  },
  {
   "cell_type": "markdown",
   "metadata": {
    "colab_type": "text",
    "id": "LILwF-Nt4iTm"
   },
   "source": [
    "**Positional Arguments are processed in order**"
   ]
  },
  {
   "cell_type": "code",
   "execution_count": null,
   "metadata": {
    "colab": {
     "autoexec": {
      "startup": false,
      "wait_interval": 0
     }
    },
    "colab_type": "code",
    "id": "Aw6DSXR64oVx"
   },
   "outputs": [],
   "source": [
    "def practice(times, technique, duration):\n",
    "    print(f\"I like to practice {technique}, {times} times a day, for {duration} minutes\")"
   ]
  },
  {
   "cell_type": "code",
   "execution_count": null,
   "metadata": {
    "colab": {
     "autoexec": {
      "startup": false,
      "wait_interval": 0
     },
     "base_uri": "https://localhost:8080/",
     "height": 35
    },
    "colab_type": "code",
    "executionInfo": {
     "elapsed": 636,
     "status": "ok",
     "timestamp": 1532365060835,
     "user": {
      "displayName": "Noah Gift",
      "photoUrl": "//lh4.googleusercontent.com/-dTIpOULZLNo/AAAAAAAAAAI/AAAAAAAAD-E/-bTXf7FrPe0/s50-c-k-no/photo.jpg",
      "userId": "114367115509726512575"
     },
     "user_tz": 600
    },
    "id": "3Gq1XUkB4qtM",
    "outputId": "8025b6d0-14f1-473b-ed65-02ac2ad09891"
   },
   "outputs": [],
   "source": [
    "practice(3, \"leg locks\", 45)"
   ]
  },
  {
   "cell_type": "markdown",
   "metadata": {
    "colab_type": "text",
    "id": "ntX-r2Bp4uTw"
   },
   "source": [
    "**Keyword Arguments are processed by key, value and can have default values**\n",
    "\n",
    "One handy feature of keyword arguments is that you can set defaults and only change the defaults you want to change."
   ]
  },
  {
   "cell_type": "code",
   "execution_count": null,
   "metadata": {
    "colab": {
     "autoexec": {
      "startup": false,
      "wait_interval": 0
     }
    },
    "colab_type": "code",
    "id": "cSIg9mKs4zg_"
   },
   "outputs": [],
   "source": [
    "def practice(times=2, technique=\"kimura\", duration=60):\n",
    "    print(f\"I like to practice {technique}, {times} times a day, for {duration} minutes\")"
   ]
  },
  {
   "cell_type": "code",
   "execution_count": null,
   "metadata": {
    "colab": {
     "autoexec": {
      "startup": false,
      "wait_interval": 0
     },
     "base_uri": "https://localhost:8080/",
     "height": 35
    },
    "colab_type": "code",
    "executionInfo": {
     "elapsed": 418,
     "status": "ok",
     "timestamp": 1532365110056,
     "user": {
      "displayName": "Noah Gift",
      "photoUrl": "//lh4.googleusercontent.com/-dTIpOULZLNo/AAAAAAAAAAI/AAAAAAAAD-E/-bTXf7FrPe0/s50-c-k-no/photo.jpg",
      "userId": "114367115509726512575"
     },
     "user_tz": 600
    },
    "id": "Be5uDA_d41dg",
    "outputId": "d933a64c-f122-4f7a-a112-d05c1e898ff8"
   },
   "outputs": [],
   "source": [
    "practice()"
   ]
  },
  {
   "cell_type": "code",
   "execution_count": null,
   "metadata": {
    "colab": {
     "autoexec": {
      "startup": false,
      "wait_interval": 0
     },
     "base_uri": "https://localhost:8080/",
     "height": 35
    },
    "colab_type": "code",
    "executionInfo": {
     "elapsed": 386,
     "status": "ok",
     "timestamp": 1532365126621,
     "user": {
      "displayName": "Noah Gift",
      "photoUrl": "//lh4.googleusercontent.com/-dTIpOULZLNo/AAAAAAAAAAI/AAAAAAAAD-E/-bTXf7FrPe0/s50-c-k-no/photo.jpg",
      "userId": "114367115509726512575"
     },
     "user_tz": 600
    },
    "id": "qOwB-4Dz43HQ",
    "outputId": "ea069629-ec53-4832-d71d-a26f671e3fa5"
   },
   "outputs": [],
   "source": [
    "practice(duration=90, technique=\"armbar\", times=4)"
   ]
  },
  {
   "cell_type": "markdown",
   "metadata": {
    "colab_type": "text",
    "id": "2wBL_tQ846Qd"
   },
   "source": [
    "*****args and ****kwargs\n",
    "\n",
    "allow dynamic argument passing to functions\n",
    "Should be used with discretion because it can make code hard to understand"
   ]
  },
  {
   "cell_type": "code",
   "execution_count": null,
   "metadata": {
    "colab": {
     "autoexec": {
      "startup": false,
      "wait_interval": 0
     }
    },
    "colab_type": "code",
    "id": "gJtpL1Ad5IUH"
   },
   "outputs": [],
   "source": [
    "def attack_techniques(**kwargs):\n",
    "    \"\"\"This accepts any number of keyword arguments\"\"\"\n",
    "    \n",
    "    for name, attack in kwargs.items():\n",
    "        print(f\"This is attack I would like to practice: {attack}\")"
   ]
  },
  {
   "cell_type": "code",
   "execution_count": null,
   "metadata": {
    "colab": {
     "autoexec": {
      "startup": false,
      "wait_interval": 0
     },
     "base_uri": "https://localhost:8080/",
     "height": 69
    },
    "colab_type": "code",
    "executionInfo": {
     "elapsed": 412,
     "status": "ok",
     "timestamp": 1532365231510,
     "user": {
      "displayName": "Noah Gift",
      "photoUrl": "//lh4.googleusercontent.com/-dTIpOULZLNo/AAAAAAAAAAI/AAAAAAAAD-E/-bTXf7FrPe0/s50-c-k-no/photo.jpg",
      "userId": "114367115509726512575"
     },
     "user_tz": 600
    },
    "id": "ODHgMleb5KVa",
    "outputId": "7fc72ece-db75-45bc-b16c-1cd7a82a2f4b"
   },
   "outputs": [],
   "source": [
    "attack_techniques(arm_attack=\"kimura\", \n",
    "                  leg_attack=\"straight_ankle_lock\", neck_attach=\"arm_triangle\")"
   ]
  },
  {
   "cell_type": "markdown",
   "metadata": {
    "colab_type": "text",
    "id": "6Bd0PwiD5NnI"
   },
   "source": [
    "**passing dictionary of keywords to function**\n",
    "\n",
    "**kwargs syntax can also be used to pass in arguments all at once"
   ]
  },
  {
   "cell_type": "code",
   "execution_count": null,
   "metadata": {
    "colab": {
     "autoexec": {
      "startup": false,
      "wait_interval": 0
     }
    },
    "colab_type": "code",
    "id": "Rxjc3U7-5QlB"
   },
   "outputs": [],
   "source": [
    "attacks = {\"arm_attack\":\"kimura\", \n",
    "           \"leg_attack\":\"straight_ankle_lock\", \n",
    "           \"neck_attach\":\"arm_triangle\"}"
   ]
  },
  {
   "cell_type": "code",
   "execution_count": null,
   "metadata": {
    "colab": {
     "autoexec": {
      "startup": false,
      "wait_interval": 0
     },
     "base_uri": "https://localhost:8080/",
     "height": 69
    },
    "colab_type": "code",
    "executionInfo": {
     "elapsed": 697,
     "status": "ok",
     "timestamp": 1532365302436,
     "user": {
      "displayName": "Noah Gift",
      "photoUrl": "//lh4.googleusercontent.com/-dTIpOULZLNo/AAAAAAAAAAI/AAAAAAAAD-E/-bTXf7FrPe0/s50-c-k-no/photo.jpg",
      "userId": "114367115509726512575"
     },
     "user_tz": 600
    },
    "id": "0BmMRBOC5SG-",
    "outputId": "c7becf03-0cc7-431c-81e5-f96ce83b198a"
   },
   "outputs": [],
   "source": [
    "attack_techniques(**attacks)"
   ]
  },
  {
   "cell_type": "markdown",
   "metadata": {
    "colab_type": "text",
    "id": "3Srgz3C65Vdk"
   },
   "source": [
    "**Passing Around Functions**\n",
    "\n",
    "Object-Oriented programming is a very popular way to program, but it isn't the only style available in Python. For concurrency and for Data Science, functional programming fits as a complementary style.\n",
    "\n",
    "In the example, below a function can be used inside of another function by being passed into the function itself as an argument."
   ]
  },
  {
   "cell_type": "code",
   "execution_count": null,
   "metadata": {
    "colab": {
     "autoexec": {
      "startup": false,
      "wait_interval": 0
     }
    },
    "colab_type": "code",
    "id": "inzYwQSq5XPy"
   },
   "outputs": [],
   "source": [
    "def attack_location(technique):\n",
    "    \"\"\"Return the location of an attack\"\"\"\n",
    "    \n",
    "    attacks = {\"kimura\": \"arm_attack\",\n",
    "           \"straight_ankle_lock\":\"leg_attack\", \n",
    "           \"arm_triangle\":\"neck_attach\"}\n",
    "    if technique in attacks:\n",
    "        return attacks[technique]\n",
    "    return \"Unknown\""
   ]
  },
  {
   "cell_type": "code",
   "execution_count": null,
   "metadata": {
    "colab": {
     "autoexec": {
      "startup": false,
      "wait_interval": 0
     },
     "base_uri": "https://localhost:8080/",
     "height": 35
    },
    "colab_type": "code",
    "executionInfo": {
     "elapsed": 512,
     "status": "ok",
     "timestamp": 1532365392685,
     "user": {
      "displayName": "Noah Gift",
      "photoUrl": "//lh4.googleusercontent.com/-dTIpOULZLNo/AAAAAAAAAAI/AAAAAAAAD-E/-bTXf7FrPe0/s50-c-k-no/photo.jpg",
      "userId": "114367115509726512575"
     },
     "user_tz": 600
    },
    "id": "VfnYsD895ZFC",
    "outputId": "e91e6883-ad43-4a1a-e5a5-3a02d8c60213"
   },
   "outputs": [],
   "source": [
    "attack_location(\"kimura\")"
   ]
  },
  {
   "cell_type": "code",
   "execution_count": null,
   "metadata": {
    "colab": {
     "autoexec": {
      "startup": false,
      "wait_interval": 0
     },
     "base_uri": "https://localhost:8080/",
     "height": 35
    },
    "colab_type": "code",
    "executionInfo": {
     "elapsed": 582,
     "status": "ok",
     "timestamp": 1532365398753,
     "user": {
      "displayName": "Noah Gift",
      "photoUrl": "//lh4.googleusercontent.com/-dTIpOULZLNo/AAAAAAAAAAI/AAAAAAAAD-E/-bTXf7FrPe0/s50-c-k-no/photo.jpg",
      "userId": "114367115509726512575"
     },
     "user_tz": 600
    },
    "id": "eK6NR4F-5aqT",
    "outputId": "5bcfb68b-a873-4643-c490-3d98263ceb10"
   },
   "outputs": [],
   "source": [
    "attack_location(\"bear hug\")"
   ]
  },
  {
   "cell_type": "code",
   "execution_count": null,
   "metadata": {
    "colab": {
     "autoexec": {
      "startup": false,
      "wait_interval": 0
     }
    },
    "colab_type": "code",
    "id": "cOARK2b65f-k"
   },
   "outputs": [],
   "source": [
    "def multiple_attacks(attack_location_function):\n",
    "    \"\"\"Takes a function that categorizes attacks and returns location\"\"\"\n",
    "    \n",
    "    new_attacks_list = [\"rear_naked_choke\", \"americana\", \"kimura\"]\n",
    "    for attack in new_attacks_list:\n",
    "        attack_location = attack_location_function(attack)\n",
    "        print(f\"The location of attack {attack} is {attack_location}\")"
   ]
  },
  {
   "cell_type": "code",
   "execution_count": null,
   "metadata": {
    "colab": {
     "autoexec": {
      "startup": false,
      "wait_interval": 0
     },
     "base_uri": "https://localhost:8080/",
     "height": 69
    },
    "colab_type": "code",
    "executionInfo": {
     "elapsed": 398,
     "status": "ok",
     "timestamp": 1532365437669,
     "user": {
      "displayName": "Noah Gift",
      "photoUrl": "//lh4.googleusercontent.com/-dTIpOULZLNo/AAAAAAAAAAI/AAAAAAAAD-E/-bTXf7FrPe0/s50-c-k-no/photo.jpg",
      "userId": "114367115509726512575"
     },
     "user_tz": 600
    },
    "id": "WzgM8VU85iju",
    "outputId": "b79db53a-c549-4b9d-86bb-215ebbdbd671"
   },
   "outputs": [],
   "source": [
    "multiple_attacks(attack_location)"
   ]
  },
  {
   "cell_type": "markdown",
   "metadata": {
    "colab_type": "text",
    "id": "bCdDA35S5mQ4"
   },
   "source": [
    "#### Closures and Functional Currying\n",
    "\n",
    "Closures are functions that contain other nested functions with state from outer function.\n",
    "\n",
    "In Python, a common way to use them is to keep track of the state. In the example below, the outer function, attack_counter keeps track of counts of attacks. The inner fuction attack_filter uses the \"nonlocal\" keyword in Python3, to modify the variable in the outer function.\n",
    "\n",
    "This approach is called \"functional currying\". It allows for a specialized function to be created from general functions. As shown below, this style of function could be the basis of a simple video game or maybe for the statistics crew of a mma match."
   ]
  },
  {
   "cell_type": "code",
   "execution_count": null,
   "metadata": {
    "colab": {
     "autoexec": {
      "startup": false,
      "wait_interval": 0
     }
    },
    "colab_type": "code",
    "id": "QeG9UZfL6THb"
   },
   "outputs": [],
   "source": [
    "def attack_counter():\n",
    "    \"\"\"Counts number of attacks on part of body\"\"\"\n",
    "    lower_body_counter = 0\n",
    "    upper_body_counter = 0\n",
    "    #print(lower_body_counter)\n",
    "    def attack_filter(attack):\n",
    "        nonlocal lower_body_counter\n",
    "        nonlocal upper_body_counter\n",
    "        attacks = {\"kimura\": \"upper_body\",\n",
    "           \"straight_ankle_lock\":\"lower_body\", \n",
    "           \"arm_triangle\":\"upper_body\",\n",
    "            \"keylock\": \"upper_body\",\n",
    "            \"knee_bar\": \"lower_body\"}\n",
    "        if attack in attacks:\n",
    "            if attacks[attack] == \"upper_body\":\n",
    "                upper_body_counter +=1\n",
    "            if attacks[attack] == \"lower_body\":\n",
    "                lower_body_counter +=1\n",
    "        print(f\"Upper Body Attacks {upper_body_counter}, Lower Body Attacks {lower_body_counter}\")\n",
    "    return attack_filter"
   ]
  },
  {
   "cell_type": "code",
   "execution_count": null,
   "metadata": {
    "colab": {
     "autoexec": {
      "startup": false,
      "wait_interval": 0
     }
    },
    "colab_type": "code",
    "id": "YT_Tk-iT6WiR"
   },
   "outputs": [],
   "source": [
    "fight = attack_counter()"
   ]
  },
  {
   "cell_type": "code",
   "execution_count": null,
   "metadata": {
    "colab": {
     "autoexec": {
      "startup": false,
      "wait_interval": 0
     },
     "base_uri": "https://localhost:8080/",
     "height": 35
    },
    "colab_type": "code",
    "executionInfo": {
     "elapsed": 409,
     "status": "ok",
     "timestamp": 1532365569743,
     "user": {
      "displayName": "Noah Gift",
      "photoUrl": "//lh4.googleusercontent.com/-dTIpOULZLNo/AAAAAAAAAAI/AAAAAAAAD-E/-bTXf7FrPe0/s50-c-k-no/photo.jpg",
      "userId": "114367115509726512575"
     },
     "user_tz": 600
    },
    "id": "J1p7hvGb6Y3m",
    "outputId": "a6bfd42f-6818-4d23-af7e-9895b24649cd"
   },
   "outputs": [],
   "source": [
    "fight(\"kimura\")"
   ]
  },
  {
   "cell_type": "code",
   "execution_count": null,
   "metadata": {
    "colab": {
     "autoexec": {
      "startup": false,
      "wait_interval": 0
     },
     "base_uri": "https://localhost:8080/",
     "height": 35
    },
    "colab_type": "code",
    "executionInfo": {
     "elapsed": 410,
     "status": "ok",
     "timestamp": 1532365588751,
     "user": {
      "displayName": "Noah Gift",
      "photoUrl": "//lh4.googleusercontent.com/-dTIpOULZLNo/AAAAAAAAAAI/AAAAAAAAD-E/-bTXf7FrPe0/s50-c-k-no/photo.jpg",
      "userId": "114367115509726512575"
     },
     "user_tz": 600
    },
    "id": "gCoFnKDJ6aTS",
    "outputId": "b37acf86-f30e-4361-a4c7-97543ed6fff0"
   },
   "outputs": [],
   "source": [
    "fight(\"knee_bar\")"
   ]
  },
  {
   "cell_type": "code",
   "execution_count": null,
   "metadata": {
    "colab": {
     "autoexec": {
      "startup": false,
      "wait_interval": 0
     },
     "base_uri": "https://localhost:8080/",
     "height": 35
    },
    "colab_type": "code",
    "executionInfo": {
     "elapsed": 440,
     "status": "ok",
     "timestamp": 1532365592660,
     "user": {
      "displayName": "Noah Gift",
      "photoUrl": "//lh4.googleusercontent.com/-dTIpOULZLNo/AAAAAAAAAAI/AAAAAAAAD-E/-bTXf7FrPe0/s50-c-k-no/photo.jpg",
      "userId": "114367115509726512575"
     },
     "user_tz": 600
    },
    "id": "_3MRMBkS6bmy",
    "outputId": "825e2ae7-3716-4ba7-885e-3df67acce2fe"
   },
   "outputs": [],
   "source": [
    "fight(\"keylock\")"
   ]
  },
  {
   "cell_type": "markdown",
   "metadata": {
    "colab_type": "text",
    "id": "hZx708yd7lpU"
   },
   "source": [
    "#### Partial Functions\n",
    "\n",
    "Useful to partial assign default values to functions"
   ]
  },
  {
   "cell_type": "code",
   "execution_count": null,
   "metadata": {
    "colab": {
     "autoexec": {
      "startup": false,
      "wait_interval": 0
     },
     "base_uri": "https://localhost:8080/",
     "height": 35
    },
    "colab_type": "code",
    "executionInfo": {
     "elapsed": 426,
     "status": "ok",
     "timestamp": 1532365687342,
     "user": {
      "displayName": "Noah Gift",
      "photoUrl": "//lh4.googleusercontent.com/-dTIpOULZLNo/AAAAAAAAAAI/AAAAAAAAD-E/-bTXf7FrPe0/s50-c-k-no/photo.jpg",
      "userId": "114367115509726512575"
     },
     "user_tz": 600
    },
    "id": "fOhajVSK7oeX",
    "outputId": "0f86f626-b949-4cbd-fbc7-7b44a097de5f"
   },
   "outputs": [],
   "source": [
    "from functools import partial\n",
    "\n",
    "def multiple_attacks(attack_one, attack_two):\n",
    "  \"\"\"Performs two attacks\"\"\"\n",
    "  \n",
    "  print(f\"First Attack {attack_one}\")\n",
    "  print(f\"Second Attack {attack_two}\")\n",
    "  \n",
    "attack_this = partial(multiple_attacks, \"kimura\")\n",
    "type(attack_this)"
   ]
  },
  {
   "cell_type": "markdown",
   "metadata": {
    "colab_type": "text",
    "id": "ymZDwSka7rrh"
   },
   "source": [
    "By using this partial function, only one argument is needed"
   ]
  },
  {
   "cell_type": "code",
   "execution_count": null,
   "metadata": {
    "colab": {
     "autoexec": {
      "startup": false,
      "wait_interval": 0
     },
     "base_uri": "https://localhost:8080/",
     "height": 52
    },
    "colab_type": "code",
    "executionInfo": {
     "elapsed": 422,
     "status": "ok",
     "timestamp": 1532365690563,
     "user": {
      "displayName": "Noah Gift",
      "photoUrl": "//lh4.googleusercontent.com/-dTIpOULZLNo/AAAAAAAAAAI/AAAAAAAAD-E/-bTXf7FrPe0/s50-c-k-no/photo.jpg",
      "userId": "114367115509726512575"
     },
     "user_tz": 600
    },
    "id": "jJv6HePw7tkH",
    "outputId": "e8ee9db5-fc02-4d5e-f150-1a0d3f9ba0b5"
   },
   "outputs": [],
   "source": [
    "attack_this(\"knee-bar\")"
   ]
  },
  {
   "cell_type": "markdown",
   "metadata": {
    "colab_type": "text",
    "id": "2CIWXwv27uPW"
   },
   "source": [
    "Alternately, the original function can also be called with a different two attacks"
   ]
  },
  {
   "cell_type": "code",
   "execution_count": null,
   "metadata": {
    "colab": {
     "autoexec": {
      "startup": false,
      "wait_interval": 0
     },
     "base_uri": "https://localhost:8080/",
     "height": 52
    },
    "colab_type": "code",
    "executionInfo": {
     "elapsed": 410,
     "status": "ok",
     "timestamp": 1532365717373,
     "user": {
      "displayName": "Noah Gift",
      "photoUrl": "//lh4.googleusercontent.com/-dTIpOULZLNo/AAAAAAAAAAI/AAAAAAAAD-E/-bTXf7FrPe0/s50-c-k-no/photo.jpg",
      "userId": "114367115509726512575"
     },
     "user_tz": 600
    },
    "id": "QVudEj-h7wO_",
    "outputId": "e022fcc8-6745-4ef8-f780-5e4ec674e3ee"
   },
   "outputs": [],
   "source": [
    "multiple_attacks(\"Darce Choke\", \"Bicep Slicer\")"
   ]
  },
  {
   "cell_type": "markdown",
   "metadata": {
    "colab_type": "text",
    "id": "5-tKvYXt6ftS"
   },
   "source": [
    "#### Lazy Evaluated Functions (Generators)\n",
    "\n",
    "A very useful style of programming is \"lazy evaluation\". A generator is an example of that. Generators yield an items at a time.\n",
    "\n",
    "The example below return an \"infinite\" random sequence of attacks. The lazy portion comes into play in that while there is an infinite amount of values, they are only returned when the function is called."
   ]
  },
  {
   "cell_type": "code",
   "execution_count": null,
   "metadata": {
    "colab": {
     "autoexec": {
      "startup": false,
      "wait_interval": 0
     }
    },
    "colab_type": "code",
    "id": "P-hOWZyV6jCt"
   },
   "outputs": [],
   "source": [
    "def lazy_return_random_attacks():\n",
    "    \"\"\"Yield attacks each time\"\"\"\n",
    "    import random\n",
    "    attacks = {\"kimura\": \"upper_body\",\n",
    "           \"straight_ankle_lock\":\"lower_body\", \n",
    "           \"arm_triangle\":\"upper_body\",\n",
    "            \"keylock\": \"upper_body\",\n",
    "            \"knee_bar\": \"lower_body\"}\n",
    "    while True:\n",
    "        random_attack = random.choices(list(attacks.keys()))\n",
    "        yield random_attack"
   ]
  },
  {
   "cell_type": "code",
   "execution_count": null,
   "metadata": {
    "colab": {
     "autoexec": {
      "startup": false,
      "wait_interval": 0
     }
    },
    "colab_type": "code",
    "id": "NrhrDOAL6u0b"
   },
   "outputs": [],
   "source": [
    "attack = lazy_return_random_attacks()"
   ]
  },
  {
   "cell_type": "code",
   "execution_count": null,
   "metadata": {
    "colab": {
     "autoexec": {
      "startup": false,
      "wait_interval": 0
     },
     "base_uri": "https://localhost:8080/",
     "height": 35
    },
    "colab_type": "code",
    "executionInfo": {
     "elapsed": 575,
     "status": "ok",
     "timestamp": 1532365831676,
     "user": {
      "displayName": "Noah Gift",
      "photoUrl": "//lh4.googleusercontent.com/-dTIpOULZLNo/AAAAAAAAAAI/AAAAAAAAD-E/-bTXf7FrPe0/s50-c-k-no/photo.jpg",
      "userId": "114367115509726512575"
     },
     "user_tz": 600
    },
    "id": "NyxMi57a6wA4",
    "outputId": "b8a04dee-e823-4fbd-8fe7-929602a884e1"
   },
   "outputs": [],
   "source": [
    "type(attack)"
   ]
  },
  {
   "cell_type": "code",
   "execution_count": null,
   "metadata": {
    "colab": {
     "autoexec": {
      "startup": false,
      "wait_interval": 0
     },
     "base_uri": "https://localhost:8080/",
     "height": 104
    },
    "colab_type": "code",
    "executionInfo": {
     "elapsed": 384,
     "status": "ok",
     "timestamp": 1532365877044,
     "user": {
      "displayName": "Noah Gift",
      "photoUrl": "//lh4.googleusercontent.com/-dTIpOULZLNo/AAAAAAAAAAI/AAAAAAAAD-E/-bTXf7FrPe0/s50-c-k-no/photo.jpg",
      "userId": "114367115509726512575"
     },
     "user_tz": 600
    },
    "id": "0IxoCkJu6y-B",
    "outputId": "6294aff0-0974-4e12-b67a-49c1e12399e6"
   },
   "outputs": [],
   "source": [
    "for _ in range(5):\n",
    "    print(next(attack))"
   ]
  },
  {
   "cell_type": "markdown",
   "metadata": {
    "colab_type": "text",
    "id": "hlJXHUVq6391"
   },
   "source": [
    "#### Decorators: Functions that wrap other functions\n",
    "\n",
    "Another useful technique in Python is to use the decorator syntax to wrap one function with another function. In the example below, a decorator is written that adds random sleep to each function call. When combined with the previous \"infinite\" attack generator, it generates random sleeps between each function call."
   ]
  },
  {
   "cell_type": "code",
   "execution_count": null,
   "metadata": {
    "colab": {
     "autoexec": {
      "startup": false,
      "wait_interval": 0
     }
    },
    "colab_type": "code",
    "id": "JvNzAVBT6695"
   },
   "outputs": [],
   "source": [
    "def randomized_speed_attack_decorator(function):\n",
    "    \"\"\"Randomizes the speed of attacks\"\"\"\n",
    "    \n",
    "    import time\n",
    "    import random\n",
    "    \n",
    "    def wrapper_func(*args, **kwargs):\n",
    "        sleep_time = random.randint(0,3)\n",
    "        print(f\"Attacking after {sleep_time} seconds\")\n",
    "        time.sleep(sleep_time)\n",
    "        return function(*args, **kwargs)\n",
    "    return wrapper_func"
   ]
  },
  {
   "cell_type": "code",
   "execution_count": null,
   "metadata": {
    "colab": {
     "autoexec": {
      "startup": false,
      "wait_interval": 0
     }
    },
    "colab_type": "code",
    "id": "5BGrwIl96-PX"
   },
   "outputs": [],
   "source": [
    "@randomized_speed_attack_decorator\n",
    "def lazy_return_random_attacks():\n",
    "    \"\"\"Yield attacks each time\"\"\"\n",
    "    import random\n",
    "    attacks = {\"kimura\": \"upper_body\",\n",
    "           \"straight_ankle_lock\":\"lower_body\", \n",
    "           \"arm_triangle\":\"upper_body\",\n",
    "            \"keylock\": \"upper_body\",\n",
    "            \"knee_bar\": \"lower_body\"}\n",
    "    while True:\n",
    "        random_attack = random.choices(list(attacks.keys()))\n",
    "        yield random_attack"
   ]
  },
  {
   "cell_type": "code",
   "execution_count": null,
   "metadata": {
    "colab": {
     "autoexec": {
      "startup": false,
      "wait_interval": 0
     },
     "base_uri": "https://localhost:8080/",
     "height": 364
    },
    "colab_type": "code",
    "executionInfo": {
     "elapsed": 18461,
     "status": "ok",
     "timestamp": 1532366093450,
     "user": {
      "displayName": "Noah Gift",
      "photoUrl": "//lh4.googleusercontent.com/-dTIpOULZLNo/AAAAAAAAAAI/AAAAAAAAD-E/-bTXf7FrPe0/s50-c-k-no/photo.jpg",
      "userId": "114367115509726512575"
     },
     "user_tz": 600
    },
    "id": "HAEY8I7M7AL5",
    "outputId": "970d7501-3d11-44f2-8ceb-fb778e95bee2"
   },
   "outputs": [],
   "source": [
    "for _ in range(10):\n",
    "    print(next(lazy_return_random_attacks()))"
   ]
  },
  {
   "cell_type": "markdown",
   "metadata": {
    "colab_type": "text",
    "id": "WT4sChux989o"
   },
   "source": [
    "#### Making Classes Behave Like Functions\n",
    "\n",
    "Creating callable functions"
   ]
  },
  {
   "cell_type": "code",
   "execution_count": null,
   "metadata": {
    "colab": {
     "autoexec": {
      "startup": false,
      "wait_interval": 0
     }
    },
    "colab_type": "code",
    "id": "y2ykyfI79_6E"
   },
   "outputs": [],
   "source": [
    "class AttackFinder:\n",
    "  \"\"\"Finds the attack location\"\"\"\n",
    "  \n",
    "  \n",
    "  def __init__(self, attack):\n",
    "    self.attack = attack\n",
    "  \n",
    "  def __call__(self):\n",
    "    attacks = {\"kimura\": \"upper_body\",\n",
    "           \"straight_ankle_lock\":\"lower_body\", \n",
    "           \"arm_triangle\":\"upper_body\",\n",
    "            \"keylock\": \"upper_body\",\n",
    "            \"knee_bar\": \"lower_body\"}\n",
    "    if not self.attack in attacks:\n",
    "      return \"unknown location\"\n",
    "    return attacks[self.attack]\n",
    "    "
   ]
  },
  {
   "cell_type": "code",
   "execution_count": null,
   "metadata": {
    "colab": {
     "autoexec": {
      "startup": false,
      "wait_interval": 0
     },
     "base_uri": "https://localhost:8080/",
     "height": 35
    },
    "colab_type": "code",
    "executionInfo": {
     "elapsed": 416,
     "status": "ok",
     "timestamp": 1532366200371,
     "user": {
      "displayName": "Noah Gift",
      "photoUrl": "//lh4.googleusercontent.com/-dTIpOULZLNo/AAAAAAAAAAI/AAAAAAAAD-E/-bTXf7FrPe0/s50-c-k-no/photo.jpg",
      "userId": "114367115509726512575"
     },
     "user_tz": 600
    },
    "id": "NKyd_XhOJCSk",
    "outputId": "64460c1a-eedf-4134-e622-f8145f5e9fe8"
   },
   "outputs": [],
   "source": [
    "my_attack = AttackFinder(\"kimura\")\n",
    "my_attack()"
   ]
  },
  {
   "cell_type": "markdown",
   "metadata": {
    "colab_type": "text",
    "id": "hQpf0vu_-Cnk"
   },
   "source": [
    "#### Applying a Function to a Pandas DataFrame\n",
    "\n",
    "The final lesson on functions is to take this knowledge and use it on a DataFrame in Pandas. One of the more fundamental concepts in Pandas is use apply on a column vs iterating through all of the values. An example is shown below where all of the numbers are rounded to a whole digit."
   ]
  },
  {
   "cell_type": "code",
   "execution_count": null,
   "metadata": {
    "colab": {
     "autoexec": {
      "startup": false,
      "wait_interval": 0
     },
     "base_uri": "https://localhost:8080/",
     "height": 202
    },
    "colab_type": "code",
    "executionInfo": {
     "elapsed": 400,
     "status": "ok",
     "timestamp": 1532366264264,
     "user": {
      "displayName": "Noah Gift",
      "photoUrl": "//lh4.googleusercontent.com/-dTIpOULZLNo/AAAAAAAAAAI/AAAAAAAAD-E/-bTXf7FrPe0/s50-c-k-no/photo.jpg",
      "userId": "114367115509726512575"
     },
     "user_tz": 600
    },
    "id": "WLWOOacP-KDz",
    "outputId": "66593d89-4b90-4a1d-8f54-9085083ee086"
   },
   "outputs": [],
   "source": [
    "import pandas as pd\n",
    "iris = pd.read_csv('../data/iris.csv')\n",
    "iris.head()"
   ]
  },
  {
   "cell_type": "code",
   "execution_count": null,
   "metadata": {
    "colab": {
     "autoexec": {
      "startup": false,
      "wait_interval": 0
     },
     "base_uri": "https://localhost:8080/",
     "height": 222
    },
    "colab_type": "code",
    "executionInfo": {
     "elapsed": 378,
     "status": "ok",
     "timestamp": 1532366313664,
     "user": {
      "displayName": "Noah Gift",
      "photoUrl": "//lh4.googleusercontent.com/-dTIpOULZLNo/AAAAAAAAAAI/AAAAAAAAD-E/-bTXf7FrPe0/s50-c-k-no/photo.jpg",
      "userId": "114367115509726512575"
     },
     "user_tz": 600
    },
    "id": "S8jXLfVq-Nrb",
    "outputId": "336ba776-4353-41e9-eb7b-83ca9f01831f"
   },
   "outputs": [],
   "source": [
    "iris['rounded_sepal_length'] = iris[['sepal_length']].apply(pd.Series.round)\n",
    "iris.head()"
   ]
  },
  {
   "cell_type": "markdown",
   "metadata": {
    "colab_type": "text",
    "id": "QrQiWvRC-QY9"
   },
   "source": [
    "This was done with a built in function, but a custom function can also be written and applied to a column. In the example below, the values are multiplied by 100. The alternative way to accomplish this would be to create a loop, transform the data and then write it back. In Pandas, it is straightforward and simple to apply custom functions instead."
   ]
  },
  {
   "cell_type": "code",
   "execution_count": null,
   "metadata": {
    "colab": {
     "autoexec": {
      "startup": false,
      "wait_interval": 0
     },
     "base_uri": "https://localhost:8080/",
     "height": 222
    },
    "colab_type": "code",
    "executionInfo": {
     "elapsed": 410,
     "status": "ok",
     "timestamp": 1532366401343,
     "user": {
      "displayName": "Noah Gift",
      "photoUrl": "//lh4.googleusercontent.com/-dTIpOULZLNo/AAAAAAAAAAI/AAAAAAAAD-E/-bTXf7FrPe0/s50-c-k-no/photo.jpg",
      "userId": "114367115509726512575"
     },
     "user_tz": 600
    },
    "id": "6WlPQ823-SMS",
    "outputId": "da1c0be1-72f9-4fde-a1e6-41b2bb252d0a"
   },
   "outputs": [],
   "source": [
    "def multiply_by_100(x):\n",
    "    \"\"\"Multiplies by 100\"\"\"\n",
    "    return x*100\n",
    "iris['100x_sepal_length'] = iris[['sepal_length']].apply(multiply_by_100)\n",
    "iris.head()"
   ]
  },
  {
   "cell_type": "markdown",
   "metadata": {
    "colab_type": "text",
    "id": "C95FIjW5-rJc"
   },
   "source": [
    "#### Writing Lambdas\n",
    "\n",
    "Generally considered to be unnecessary.  A Python lambda is an inline python and it can often lead to confusing code.  \n"
   ]
  },
  {
   "cell_type": "code",
   "execution_count": null,
   "metadata": {
    "colab": {
     "autoexec": {
      "startup": false,
      "wait_interval": 0
     },
     "base_uri": "https://localhost:8080/",
     "height": 35
    },
    "colab_type": "code",
    "executionInfo": {
     "elapsed": 388,
     "status": "ok",
     "timestamp": 1532366557313,
     "user": {
      "displayName": "Noah Gift",
      "photoUrl": "//lh4.googleusercontent.com/-dTIpOULZLNo/AAAAAAAAAAI/AAAAAAAAD-E/-bTXf7FrPe0/s50-c-k-no/photo.jpg",
      "userId": "114367115509726512575"
     },
     "user_tz": 600
    },
    "id": "dEvuisbJ-tc2",
    "outputId": "b6260485-bb39-4097-f5ca-dc5edd73b617"
   },
   "outputs": [],
   "source": [
    "func = lambda x: x**2\n",
    "func(2)"
   ]
  },
  {
   "cell_type": "code",
   "execution_count": null,
   "metadata": {
    "colab": {
     "autoexec": {
      "startup": false,
      "wait_interval": 0
     },
     "base_uri": "https://localhost:8080/",
     "height": 35
    },
    "colab_type": "code",
    "executionInfo": {
     "elapsed": 433,
     "status": "ok",
     "timestamp": 1532366565707,
     "user": {
      "displayName": "Noah Gift",
      "photoUrl": "//lh4.googleusercontent.com/-dTIpOULZLNo/AAAAAAAAAAI/AAAAAAAAD-E/-bTXf7FrPe0/s50-c-k-no/photo.jpg",
      "userId": "114367115509726512575"
     },
     "user_tz": 600
    },
    "id": "Cq9-b_1N-tpI",
    "outputId": "e2b98a4a-1e54-44b2-bc39-1cb83118132c"
   },
   "outputs": [],
   "source": [
    "def regular_func(x):\n",
    "  return x**2\n",
    "\n",
    "regular_func(2)"
   ]
  },
  {
   "cell_type": "code",
   "execution_count": null,
   "metadata": {
    "colab": {
     "autoexec": {
      "startup": false,
      "wait_interval": 0
     }
    },
    "colab_type": "code",
    "id": "FlIAJo2GK7KL"
   },
   "outputs": [],
   "source": [
    "def regular_func2(x):\n",
    "  \"\"\"This makes my variable go to the second power\"\"\"\n",
    "  return x**2"
   ]
  },
  {
   "cell_type": "code",
   "execution_count": null,
   "metadata": {
    "colab": {
     "autoexec": {
      "startup": false,
      "wait_interval": 0
     },
     "base_uri": "https://localhost:8080/",
     "height": 35
    },
    "colab_type": "code",
    "executionInfo": {
     "elapsed": 398,
     "status": "ok",
     "timestamp": 1532366747698,
     "user": {
      "displayName": "Noah Gift",
      "photoUrl": "//lh4.googleusercontent.com/-dTIpOULZLNo/AAAAAAAAAAI/AAAAAAAAD-E/-bTXf7FrPe0/s50-c-k-no/photo.jpg",
      "userId": "114367115509726512575"
     },
     "user_tz": 600
    },
    "id": "ZOMmTXtSLF9W",
    "outputId": "efd9cf50-d19d-47a1-cd97-74cc3e9c9a2e"
   },
   "outputs": [],
   "source": [
    "regular_func2(2)"
   ]
  },
  {
   "cell_type": "code",
   "execution_count": null,
   "metadata": {
    "colab": {
     "autoexec": {
      "startup": false,
      "wait_interval": 0
     }
    },
    "colab_type": "code",
    "id": "rnXLQ6rZLKj5"
   },
   "outputs": [],
   "source": []
  }
 ],
 "metadata": {
  "colab": {
   "collapsed_sections": [],
   "default_view": {},
   "name": "Public-Master-SafariOnline-Day1-Part1.ipynb",
   "provenance": [
    {
     "file_id": "1CEjXo73dS4_gYoZXgBopGOVH-Iy1AWi3",
     "timestamp": 1528068717246
    },
    {
     "file_id": "1e32MtNMP26wD8S_VgDvsGPRk5fBeb5VM",
     "timestamp": 1528054449949
    },
    {
     "file_id": "1GglwyEMcFMvYQSQ46pZTyTzVXzJHbft_",
     "timestamp": 1522634390221
    }
   ],
   "version": "0.3.2",
   "views": {}
  },
  "kernelspec": {
   "display_name": "Python 3",
   "language": "python",
   "name": "python3"
  },
  "language_info": {
   "codemirror_mode": {
    "name": "ipython",
    "version": 3
   },
   "file_extension": ".py",
   "mimetype": "text/x-python",
   "name": "python",
   "nbconvert_exporter": "python",
   "pygments_lexer": "ipython3",
   "version": "3.6.4"
  },
  "toc": {
   "nav_menu": {},
   "number_sections": true,
   "sideBar": true,
   "skip_h1_title": false,
   "title_cell": "Table of Contents",
   "title_sidebar": "Contents",
   "toc_cell": false,
   "toc_position": {},
   "toc_section_display": true,
   "toc_window_display": false
  }
 },
 "nbformat": 4,
 "nbformat_minor": 1
}
