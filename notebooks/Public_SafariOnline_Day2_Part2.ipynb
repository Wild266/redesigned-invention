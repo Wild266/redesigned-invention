{
  "nbformat": 4,
  "nbformat_minor": 0,
  "metadata": {
    "colab": {
      "name": "Public-SafariOnline-Day2-Part2.ipynb",
      "version": "0.3.2",
      "views": {},
      "default_view": {},
      "provenance": [
        {
          "file_id": "14pVpENHqwR7Xzv8mPaSQl6kWZ5_V4ayg",
          "timestamp": 1528221155071
        },
        {
          "file_id": "1H9MftVEJMcEUT1PXU27A-hioNWQsQCjC",
          "timestamp": 1528209452828
        }
      ],
      "collapsed_sections": []
    }
  },
  "cells": [
    {
      "metadata": {
        "id": "lHZc2G73byeK",
        "colab_type": "text"
      },
      "cell_type": "markdown",
      "source": [
        "# Essential Machine Learning and Exploratory Data Analysis with Python and Jupyter Notebook\n",
        "\n",
        "\n"
      ]
    },
    {
      "metadata": {
        "id": "4z0oo6mLb347",
        "colab_type": "text"
      },
      "cell_type": "markdown",
      "source": [
        "## Pragmatic AI Labs\n",
        "![alt text](https://paiml.com/images/logo_with_slogan_white_background.png)\n",
        "\n",
        "This notebook was produced by [Pragmatic AI Labs](https://paiml.com/).  You can continue learning about these topics by:\n",
        "\n",
        "*   Buying a copy of [Pragmatic AI: An Introduction to Cloud-Based Machine Learning](http://www.informit.com/store/pragmatic-ai-an-introduction-to-cloud-based-machine-9780134863917)\n",
        "*   Reading an online copy of [Pragmatic AI:Pragmatic AI: An Introduction to Cloud-Based Machine Learning](https://www.safaribooksonline.com/library/view/pragmatic-ai-an/9780134863924/)\n",
        "*   Viewing more content at [noahgift.com](https://noahgift.com/)\n"
      ]
    },
    {
      "metadata": {
        "id": "KzmVOhVhb455",
        "colab_type": "code",
        "colab": {
          "autoexec": {
            "startup": false,
            "wait_interval": 0
          }
        }
      },
      "cell_type": "code",
      "source": [
        ""
      ],
      "execution_count": 0,
      "outputs": []
    },
    {
      "metadata": {
        "id": "lujOt1rIipPQ",
        "colab_type": "text"
      },
      "cell_type": "markdown",
      "source": [
        "# Part 2.2:  AWS Cloud-Native Python for ML/AI (45 Minutes)\n",
        "\n",
        "*[Read related material covered in Chapter 5 of Pragmatic AI](https://www.safaribooksonline.com/library/view/pragmatic-ai-an/9780134863924/ch05.xhtml#ch05)*\n",
        "\n",
        "* Introducing AWS Web Services:  Creating accounts, Creating Users and Using Amazon S3 \n",
        "* Using Boto \n",
        "* Starting development with AWS Python Lambda development with Chalice \n",
        "* Using of AWS DynamoDB \n",
        "* Using of Step functions with AWS \n",
        "* Using of AWS Batch for ML Jobs \n",
        "* Using AWS Sagemaker for Deep Learning Jobs \n",
        "* Using AWS Comprehend for NLP \n",
        "* Using AWS Image Recognition API \n"
      ]
    },
    {
      "metadata": {
        "id": "UCBAAf7jmxXB",
        "colab_type": "text"
      },
      "cell_type": "markdown",
      "source": [
        "#### Introducing AWS Web Services\n",
        "\n",
        "Creating accounts, Creating Users and Using Amazon S3\n",
        "\n",
        "\n",
        "[AWS Web Services Console](https://aws.amazon.com/)\n",
        "\n",
        "![alt text](https://d1.awsstatic.com/global-infrastructure/maps/GI-map_20180509.67c18e15870ce65aadf8deea82a14b1fa32b1f5c.png)\n",
        "\n",
        "\n"
      ]
    },
    {
      "metadata": {
        "id": "yQ3YO6Xum1iL",
        "colab_type": "code",
        "colab": {
          "autoexec": {
            "startup": false,
            "wait_interval": 0
          }
        }
      },
      "cell_type": "code",
      "source": [
        ""
      ],
      "execution_count": 0,
      "outputs": []
    },
    {
      "metadata": {
        "id": "bxzeL-i0m2hB",
        "colab_type": "text"
      },
      "cell_type": "markdown",
      "source": [
        "#### Using Boto\n",
        "\n",
        "\n",
        "![alt text](https://d1.awsstatic.com/whiteboard-graphics/aws/icons/documentation.3469fb5fe7ea27f9268c9d3a882c639499805aee.png)\n",
        "\n",
        "References:\n",
        "\n",
        "\n",
        "\n",
        "*   [Interacting with S3 Github Project](https://github.com/noahgift/functional_intro_to_python/blob/master/notebooks/aws/aws.ipynb)\n",
        "*   AWS SDK for Python (https://aws.amazon.com/sdk-for-python/)\n",
        "\n",
        "```python\n",
        "import boto3\n",
        "resource = boto3.resource(\"s3\")\n",
        "resource.meta.client.download_file('testntest', 'nba_2017_endorsement_full_stats.csv',\n",
        "'/tmp/nba_2017_endorsement_full_stats.csv')\n",
        "```\n",
        "\n"
      ]
    },
    {
      "metadata": {
        "id": "6mQTbtMim28M",
        "colab_type": "code",
        "colab": {
          "autoexec": {
            "startup": false,
            "wait_interval": 0
          }
        }
      },
      "cell_type": "code",
      "source": [
        ""
      ],
      "execution_count": 0,
      "outputs": []
    },
    {
      "metadata": {
        "id": "PlVk0ly3m8SH",
        "colab_type": "text"
      },
      "cell_type": "markdown",
      "source": [
        "#### Starting development with AWS Python Lambda development with Chalice\n",
        "\n",
        "https://github.com/aws/chalice\n",
        "\n",
        "*Hello World Example:*\n",
        "\n",
        "```python\n",
        "$ pip install chalice\n",
        "$ chalice new-project helloworld && cd helloworld\n",
        "$ cat app.py\n",
        "\n",
        "from chalice import Chalice\n",
        "\n",
        "app = Chalice(app_name=\"helloworld\")\n",
        "\n",
        "@app.route(\"/\")\n",
        "def index():\n",
        "    return {\"hello\": \"world\"}\n",
        "\n",
        "$ chalice deploy\n",
        "...\n",
        "https://endpoint/dev\n",
        "\n",
        "$ curl https://endpoint/api\n",
        "{\"hello\": \"world\"}\n",
        "```\n",
        "\n",
        "References:\n",
        "\n",
        "[Serverless Web Scraping Project](https://github.com/noahgift/web_scraping_python)\n",
        "\n"
      ]
    },
    {
      "metadata": {
        "id": "CylBp90Nm8qE",
        "colab_type": "code",
        "colab": {
          "autoexec": {
            "startup": false,
            "wait_interval": 0
          }
        }
      },
      "cell_type": "code",
      "source": [
        ""
      ],
      "execution_count": 0,
      "outputs": []
    },
    {
      "metadata": {
        "id": "q7B3KpSfnCYo",
        "colab_type": "text"
      },
      "cell_type": "markdown",
      "source": [
        "#### Using AWS DynamoDB\n",
        "\n",
        "https://aws.amazon.com/dynamodb/\n",
        "\n",
        "![alt text](https://d1.awsstatic.com/video-thumbs/dynamodb/AWS-online-games-wide.ada4247744e9be9a6d857b2e13b7eb78b18bf3a5.png)\n",
        "\n",
        "Query Example:\n",
        "\n",
        "```python\n",
        "def query_police_department_record_by_guid(guid):\n",
        "    \"\"\"Gets one record in the PD table by guid\n",
        "    \n",
        "    In [5]: rec = query_police_department_record_by_guid(\n",
        "        \"7e607b82-9e18-49dc-a9d7-e9628a9147ad\"\n",
        "        )\n",
        "    \n",
        "    In [7]: rec\n",
        "    Out[7]: \n",
        "    {'PoliceDepartmentName': 'Hollister',\n",
        "     'UpdateTime': 'Fri Mar  2 12:43:43 2018',\n",
        "     'guid': '7e607b82-9e18-49dc-a9d7-e9628a9147ad'}\n",
        "    \"\"\"\n",
        "    \n",
        "    db = dynamodb_resource()\n",
        "    extra_msg = {\"region_name\": REGION, \"aws_service\": \"dynamodb\", \n",
        "        \"police_department_table\":POLICE_DEPARTMENTS_TABLE,\n",
        "        \"guid\":guid}\n",
        "    log.info(f\"Get PD record by GUID\", extra=extra_msg)\n",
        "    pd_table = db.Table(POLICE_DEPARTMENTS_TABLE)\n",
        "    response = pd_table.get_item(\n",
        "        Key={\n",
        "            'guid': guid\n",
        "            }\n",
        "    )\n",
        "    return response['Item']\n",
        "```\n"
      ]
    },
    {
      "metadata": {
        "id": "ptl-t-lQnCyJ",
        "colab_type": "code",
        "colab": {
          "autoexec": {
            "startup": false,
            "wait_interval": 0
          }
        }
      },
      "cell_type": "code",
      "source": [
        ""
      ],
      "execution_count": 0,
      "outputs": []
    },
    {
      "metadata": {
        "id": "Hc2I3g2xnH3Y",
        "colab_type": "text"
      },
      "cell_type": "markdown",
      "source": [
        "#### Using Step functions with AWS\n",
        "\n",
        "https://aws.amazon.com/step-functions/\n",
        "\n",
        "![Step Functions](https://d1.awsstatic.com/product-marketing/Step%20Functions/AmazonCloudWatchUpdated4.a57e968b08739e170aa504feed8db3761de21e60.png)\n",
        "\n",
        "Example Project:\n",
        "\n",
        "https://github.com/noahgift/web_scraping_python"
      ]
    },
    {
      "metadata": {
        "id": "IDSQXpMJnICv",
        "colab_type": "code",
        "colab": {
          "autoexec": {
            "startup": false,
            "wait_interval": 0
          }
        }
      },
      "cell_type": "code",
      "source": [
        ""
      ],
      "execution_count": 0,
      "outputs": []
    },
    {
      "metadata": {
        "id": "bDlM65z5nM0i",
        "colab_type": "text"
      },
      "cell_type": "markdown",
      "source": [
        "#### Using AWS Batch for ML Jobs\n",
        "\n",
        "https://aws.amazon.com/batch/\n",
        "\n",
        "![alt text](https://d1.awsstatic.com/Test%20Images/Kate%20Test%20Images/Dilithium-Diagrams_Visual-Effects-Rendering.ad9c0479c3772c67953e96ef8ae76a5095373d81.png)\n",
        "\n",
        "\n",
        "Example submissions tool\n",
        "\n",
        "```python\n",
        "@cli.group()\n",
        "def run():\n",
        "    \"\"\"Run AWS Batch\"\"\"\n",
        "\n",
        "@run.command(\"submit\")\n",
        "@click.option(\"--queue\", default=\"first-run-job-queue\", help=\"Batch Queue\")\n",
        "@click.option(\"--jobname\", default=\"1\", help=\"Name of Job\")\n",
        "@click.option(\"--jobdef\", default=\"test\", help=\"Job Definition\")\n",
        "@click.option(\"--cmd\", default=[\"uname\"], help=\"Container Override Commands\")\n",
        "def submit(queue, jobname, jobdef, cmd):\n",
        "    \"\"\"Submit a job\"\"\"\n",
        "\n",
        "    result = submit_job(\n",
        "        job_name=jobname,\n",
        "        job_queue=queue,\n",
        "        job_definition=jobdef,\n",
        "        command=cmd\n",
        "    )\n",
        "    click.echo(\"CLI:  Run Job Called\")\n",
        "    return result\n",
        "```\n"
      ]
    },
    {
      "metadata": {
        "id": "_taEoy5BnNOM",
        "colab_type": "code",
        "colab": {
          "autoexec": {
            "startup": false,
            "wait_interval": 0
          }
        }
      },
      "cell_type": "code",
      "source": [
        ""
      ],
      "execution_count": 0,
      "outputs": []
    },
    {
      "metadata": {
        "id": "UbbRv8cOnSHm",
        "colab_type": "text"
      },
      "cell_type": "markdown",
      "source": [
        "#### Using AWS Sagemaker \n",
        "\n",
        "![Sagemaker Lifecycle](https://d2908q01vomqb2.cloudfront.net/da4b9237bacccdf19c0760cab7aec4a8359010b0/2017/11/29/please_work.png)\n",
        "\n",
        "Fully-managed service that enables data scientists and developers to quickly and easily build, train and deploy machine learning models.\n",
        "\n",
        "https://aws.amazon.com/sagemaker/\n",
        "\n",
        "*   Hosted Jupyter Notebooks\n",
        "*   Model Training\n",
        "*   Model Hosting\n",
        "\n",
        "\n",
        "\n"
      ]
    },
    {
      "metadata": {
        "id": "z1fhFFvCnSZD",
        "colab_type": "code",
        "colab": {
          "autoexec": {
            "startup": false,
            "wait_interval": 0
          }
        }
      },
      "cell_type": "code",
      "source": [
        ""
      ],
      "execution_count": 0,
      "outputs": []
    },
    {
      "metadata": {
        "id": "f7PiVW0InZ2T",
        "colab_type": "text"
      },
      "cell_type": "markdown",
      "source": [
        "#### Using AWS Comprehend for NLP\n",
        "\n",
        "https://aws.amazon.com/comprehend/\n",
        "\n",
        "![alt text](https://d1.awsstatic.com/serverless/Serverless%20Migration/SemanticSearch@2x.487eb9f1abf658ccbf682d0f14aa9d8a0e5da635.png)\n",
        "\n",
        "Example Project:\n",
        "\n",
        "https://github.com/noahgift/recommendations/blob/master/notebooks/NLP_AWS.ipynb\n",
        "\n",
        "\n",
        "Example Code:\n",
        "\n",
        "```python\n",
        "import pandas as pd\n",
        "import boto3\n",
        "\n",
        "comprehend = boto3.client(service_name='comprehend')\n",
        "```"
      ]
    },
    {
      "metadata": {
        "id": "dAmPT9GonaNE",
        "colab_type": "code",
        "colab": {
          "autoexec": {
            "startup": false,
            "wait_interval": 0
          }
        }
      },
      "cell_type": "code",
      "source": [
        ""
      ],
      "execution_count": 0,
      "outputs": []
    },
    {
      "metadata": {
        "id": "FyQuGIbQnj4E",
        "colab_type": "text"
      },
      "cell_type": "markdown",
      "source": [
        "#### Using AWS Image Rekognition API\n",
        "\n",
        "https://aws.amazon.com/rekognition/\n",
        "\n",
        "![alt text](https://d1.awsstatic.com/diagrams/product-page-diagrams/Rekognition_1.124a4700e5288f3947c7ea370c9844f09607849e.png)\n",
        "\n",
        "uploaded image:\n",
        "\n",
        "![alt text](https://user-images.githubusercontent.com/58792/40987724-27db5d0e-689e-11e8-917c-7160ad85c344.png)"
      ]
    },
    {
      "metadata": {
        "id": "tU2NnljgnkRd",
        "colab_type": "code",
        "colab": {
          "autoexec": {
            "startup": false,
            "wait_interval": 0
          }
        }
      },
      "cell_type": "code",
      "source": [
        ""
      ],
      "execution_count": 0,
      "outputs": []
    },
    {
      "metadata": {
        "id": "3_LEwD9ykIuL",
        "colab_type": "text"
      },
      "cell_type": "markdown",
      "source": [
        "### Software Carpentery (Bonus Material #1)\n",
        "\n",
        "*   Using Git and Github to manage changes\n",
        "*   Using CircleCI to build and test project sourced from Github\n",
        "*   Using Static Analysis and Testing tools: Pylint and Pytest\n",
        "*   Testing Jupyter Notebook\n",
        "\n",
        "Go through this repo in detail:  https://github.com/noahgift/myrepo"
      ]
    },
    {
      "metadata": {
        "id": "vVaN9XrvkKc6",
        "colab_type": "code",
        "colab": {
          "autoexec": {
            "startup": false,
            "wait_interval": 0
          }
        }
      },
      "cell_type": "code",
      "source": [
        ""
      ],
      "execution_count": 0,
      "outputs": []
    }
  ]
}